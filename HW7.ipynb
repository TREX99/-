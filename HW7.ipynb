{
 "cells": [
  {
   "cell_type": "markdown",
   "metadata": {
    "papermill": {
     "duration": 0.022274,
     "end_time": "2020-11-20T07:06:51.484130",
     "exception": false,
     "start_time": "2020-11-20T07:06:51.461856",
     "status": "completed"
    },
    "tags": []
   },
   "source": [
    "\n",
    "houseprice.csv는 주택판매가격(price)과 이에 영향을 줄 것으로 판단되는 4가지 설명변수인 세금(tax; 만원), 대지평수(ground; 평), 건물평수(floor; 평), 주택연령(year; 년)을 27개 주택에 대해 조사한 것이다. \n"
   ]
  },
  {
   "cell_type": "code",
   "execution_count": 1,
   "metadata": {
    "execution": {
     "iopub.execute_input": "2020-11-20T07:06:51.530992Z",
     "iopub.status.busy": "2020-11-20T07:06:51.530089Z",
     "iopub.status.idle": "2020-11-20T07:06:53.656661Z",
     "shell.execute_reply": "2020-11-20T07:06:53.655968Z"
    },
    "papermill": {
     "duration": 2.153235,
     "end_time": "2020-11-20T07:06:53.656792",
     "exception": false,
     "start_time": "2020-11-20T07:06:51.503557",
     "status": "completed"
    },
    "tags": []
   },
   "outputs": [],
   "source": [
    "import pandas as pd\n",
    "import numpy as np\n",
    "import matplotlib.pylab as plt\n",
    "import scipy.stats as stats\n",
    "import statsmodels.api as sm\n",
    "import statsmodels.formula.api as smf\n",
    "import seaborn as sns\n",
    "\n",
    "data_path = \"./data/\"\n",
    "house = pd.read_csv(data_path + \"houseprice.csv\")"
   ]
  },
  {
   "cell_type": "code",
   "execution_count": 2,
   "metadata": {
    "execution": {
     "iopub.execute_input": "2020-11-20T07:06:53.712658Z",
     "iopub.status.busy": "2020-11-20T07:06:53.705184Z",
     "iopub.status.idle": "2020-11-20T07:06:53.726827Z",
     "shell.execute_reply": "2020-11-20T07:06:53.726080Z"
    },
    "papermill": {
     "duration": 0.050542,
     "end_time": "2020-11-20T07:06:53.726953",
     "exception": false,
     "start_time": "2020-11-20T07:06:53.676411",
     "status": "completed"
    },
    "tags": []
   },
   "outputs": [
    {
     "data": {
      "text/html": [
       "<div>\n",
       "<style scoped>\n",
       "    .dataframe tbody tr th:only-of-type {\n",
       "        vertical-align: middle;\n",
       "    }\n",
       "\n",
       "    .dataframe tbody tr th {\n",
       "        vertical-align: top;\n",
       "    }\n",
       "\n",
       "    .dataframe thead th {\n",
       "        text-align: right;\n",
       "    }\n",
       "</style>\n",
       "<table border=\"1\" class=\"dataframe\">\n",
       "  <thead>\n",
       "    <tr style=\"text-align: right;\">\n",
       "      <th></th>\n",
       "      <th>price</th>\n",
       "      <th>tax</th>\n",
       "      <th>ground</th>\n",
       "      <th>floor</th>\n",
       "      <th>year</th>\n",
       "    </tr>\n",
       "  </thead>\n",
       "  <tbody>\n",
       "    <tr>\n",
       "      <th>0</th>\n",
       "      <td>12.95</td>\n",
       "      <td>98.352</td>\n",
       "      <td>34.72</td>\n",
       "      <td>19.96</td>\n",
       "      <td>4.2</td>\n",
       "    </tr>\n",
       "    <tr>\n",
       "      <th>1</th>\n",
       "      <td>14.75</td>\n",
       "      <td>100.416</td>\n",
       "      <td>35.31</td>\n",
       "      <td>30.00</td>\n",
       "      <td>6.2</td>\n",
       "    </tr>\n",
       "    <tr>\n",
       "      <th>2</th>\n",
       "      <td>13.95</td>\n",
       "      <td>90.858</td>\n",
       "      <td>22.75</td>\n",
       "      <td>23.50</td>\n",
       "      <td>4.0</td>\n",
       "    </tr>\n",
       "    <tr>\n",
       "      <th>3</th>\n",
       "      <td>12.95</td>\n",
       "      <td>91.146</td>\n",
       "      <td>40.50</td>\n",
       "      <td>24.64</td>\n",
       "      <td>5.4</td>\n",
       "    </tr>\n",
       "    <tr>\n",
       "      <th>4</th>\n",
       "      <td>14.95</td>\n",
       "      <td>101.194</td>\n",
       "      <td>44.55</td>\n",
       "      <td>22.42</td>\n",
       "      <td>4.2</td>\n",
       "    </tr>\n",
       "  </tbody>\n",
       "</table>\n",
       "</div>"
      ],
      "text/plain": [
       "   price      tax  ground  floor  year\n",
       "0  12.95   98.352   34.72  19.96   4.2\n",
       "1  14.75  100.416   35.31  30.00   6.2\n",
       "2  13.95   90.858   22.75  23.50   4.0\n",
       "3  12.95   91.146   40.50  24.64   5.4\n",
       "4  14.95  101.194   44.55  22.42   4.2"
      ]
     },
     "execution_count": 2,
     "metadata": {},
     "output_type": "execute_result"
    }
   ],
   "source": [
    "# 데이타 미리보기\n",
    "house.head()"
   ]
  },
  {
   "cell_type": "code",
   "execution_count": 3,
   "metadata": {
    "execution": {
     "iopub.execute_input": "2020-11-20T07:06:53.775695Z",
     "iopub.status.busy": "2020-11-20T07:06:53.774887Z",
     "iopub.status.idle": "2020-11-20T07:06:53.803400Z",
     "shell.execute_reply": "2020-11-20T07:06:53.802620Z"
    },
    "papermill": {
     "duration": 0.056632,
     "end_time": "2020-11-20T07:06:53.803554",
     "exception": false,
     "start_time": "2020-11-20T07:06:53.746922",
     "status": "completed"
    },
    "tags": []
   },
   "outputs": [
    {
     "data": {
      "text/html": [
       "<div>\n",
       "<style scoped>\n",
       "    .dataframe tbody tr th:only-of-type {\n",
       "        vertical-align: middle;\n",
       "    }\n",
       "\n",
       "    .dataframe tbody tr th {\n",
       "        vertical-align: top;\n",
       "    }\n",
       "\n",
       "    .dataframe thead th {\n",
       "        text-align: right;\n",
       "    }\n",
       "</style>\n",
       "<table border=\"1\" class=\"dataframe\">\n",
       "  <thead>\n",
       "    <tr style=\"text-align: right;\">\n",
       "      <th></th>\n",
       "      <th>count</th>\n",
       "      <th>mean</th>\n",
       "      <th>std</th>\n",
       "      <th>min</th>\n",
       "      <th>25%</th>\n",
       "      <th>50%</th>\n",
       "      <th>75%</th>\n",
       "      <th>max</th>\n",
       "    </tr>\n",
       "  </thead>\n",
       "  <tbody>\n",
       "    <tr>\n",
       "      <th>price</th>\n",
       "      <td>27.0</td>\n",
       "      <td>19.250000</td>\n",
       "      <td>7.153751</td>\n",
       "      <td>12.95</td>\n",
       "      <td>14.9750</td>\n",
       "      <td>18.450</td>\n",
       "      <td>20.375</td>\n",
       "      <td>42.450</td>\n",
       "    </tr>\n",
       "    <tr>\n",
       "      <th>tax</th>\n",
       "      <td>27.0</td>\n",
       "      <td>144.898815</td>\n",
       "      <td>57.640439</td>\n",
       "      <td>77.82</td>\n",
       "      <td>103.6000</td>\n",
       "      <td>121.862</td>\n",
       "      <td>166.071</td>\n",
       "      <td>308.404</td>\n",
       "    </tr>\n",
       "    <tr>\n",
       "      <th>ground</th>\n",
       "      <td>27.0</td>\n",
       "      <td>63.475556</td>\n",
       "      <td>24.036766</td>\n",
       "      <td>22.75</td>\n",
       "      <td>47.2165</td>\n",
       "      <td>58.500</td>\n",
       "      <td>75.631</td>\n",
       "      <td>128.000</td>\n",
       "    </tr>\n",
       "    <tr>\n",
       "      <th>floor</th>\n",
       "      <td>27.0</td>\n",
       "      <td>30.241481</td>\n",
       "      <td>11.165303</td>\n",
       "      <td>19.50</td>\n",
       "      <td>23.7500</td>\n",
       "      <td>29.760</td>\n",
       "      <td>33.160</td>\n",
       "      <td>68.400</td>\n",
       "    </tr>\n",
       "    <tr>\n",
       "      <th>year</th>\n",
       "      <td>27.0</td>\n",
       "      <td>3.648148</td>\n",
       "      <td>1.405311</td>\n",
       "      <td>0.30</td>\n",
       "      <td>3.0000</td>\n",
       "      <td>4.000</td>\n",
       "      <td>4.700</td>\n",
       "      <td>6.200</td>\n",
       "    </tr>\n",
       "  </tbody>\n",
       "</table>\n",
       "</div>"
      ],
      "text/plain": [
       "        count        mean        std    min       25%      50%      75%  \\\n",
       "price    27.0   19.250000   7.153751  12.95   14.9750   18.450   20.375   \n",
       "tax      27.0  144.898815  57.640439  77.82  103.6000  121.862  166.071   \n",
       "ground   27.0   63.475556  24.036766  22.75   47.2165   58.500   75.631   \n",
       "floor    27.0   30.241481  11.165303  19.50   23.7500   29.760   33.160   \n",
       "year     27.0    3.648148   1.405311   0.30    3.0000    4.000    4.700   \n",
       "\n",
       "            max  \n",
       "price    42.450  \n",
       "tax     308.404  \n",
       "ground  128.000  \n",
       "floor    68.400  \n",
       "year      6.200  "
      ]
     },
     "execution_count": 3,
     "metadata": {},
     "output_type": "execute_result"
    }
   ],
   "source": [
    "# 데이타 기초통계 미리보기\n",
    "house.describe().T"
   ]
  },
  {
   "cell_type": "markdown",
   "metadata": {
    "papermill": {
     "duration": 0.020016,
     "end_time": "2020-11-20T07:06:53.844111",
     "exception": false,
     "start_time": "2020-11-20T07:06:53.824095",
     "status": "completed"
    },
    "tags": []
   },
   "source": [
    "#### 1. 주택 가격과 세금 간의 산점도 행렬과 상관계수를 구하시오. 두 변수 간의 선형관계가 존재하는가? 산점도 행렬을 보면 3개의 특이한 관측치가 나타난다. 이들 값의 특성은 무엇인가?"
   ]
  },
  {
   "cell_type": "code",
   "execution_count": 4,
   "metadata": {
    "execution": {
     "iopub.execute_input": "2020-11-20T07:06:53.891154Z",
     "iopub.status.busy": "2020-11-20T07:06:53.890300Z",
     "iopub.status.idle": "2020-11-20T07:06:54.213360Z",
     "shell.execute_reply": "2020-11-20T07:06:54.212676Z"
    },
    "papermill": {
     "duration": 0.348578,
     "end_time": "2020-11-20T07:06:54.213504",
     "exception": false,
     "start_time": "2020-11-20T07:06:53.864926",
     "status": "completed"
    },
    "tags": []
   },
   "outputs": [
    {
     "data": {
      "image/png": "[encoded data removed]",
      "text/plain": [
       "<Figure size 432x288 with 1 Axes>"
      ]
     },
     "metadata": {
      "needs_background": "light"
     },
     "output_type": "display_data"
    }
   ],
   "source": [
    "# 산점도 행렬\n",
    "house.plot.scatter('tax','price')\n",
    "plt.show()"
   ]
  },
  {
   "cell_type": "code",
   "execution_count": 5,
   "metadata": {
    "execution": {
     "iopub.execute_input": "2020-11-20T07:06:54.275062Z",
     "iopub.status.busy": "2020-11-20T07:06:54.272177Z",
     "iopub.status.idle": "2020-11-20T07:06:54.422556Z",
     "shell.execute_reply": "2020-11-20T07:06:54.421916Z"
    },
    "papermill": {
     "duration": 0.187764,
     "end_time": "2020-11-20T07:06:54.422698",
     "exception": false,
     "start_time": "2020-11-20T07:06:54.234934",
     "status": "completed"
    },
    "tags": []
   },
   "outputs": [
    {
     "data": {
      "image/png": "[encoded data removed]",
      "text/plain": [
       "<Figure size 432x288 with 1 Axes>"
      ]
     },
     "metadata": {
      "needs_background": "light"
     },
     "output_type": "display_data"
    }
   ],
   "source": [
    "# 산점도 행렬 - 다른 방법으로 그려보기 - 검증\n",
    "house.plot(x=\"tax\", y=\"price\", kind=\"scatter\")\n",
    "plt.show()"
   ]
  },
  {
   "cell_type": "code",
   "execution_count": 6,
   "metadata": {
    "execution": {
     "iopub.execute_input": "2020-11-20T07:06:54.475930Z",
     "iopub.status.busy": "2020-11-20T07:06:54.475016Z",
     "iopub.status.idle": "2020-11-20T07:06:54.479922Z",
     "shell.execute_reply": "2020-11-20T07:06:54.479191Z"
    },
    "papermill": {
     "duration": 0.034324,
     "end_time": "2020-11-20T07:06:54.480044",
     "exception": false,
     "start_time": "2020-11-20T07:06:54.445720",
     "status": "completed"
    },
    "tags": []
   },
   "outputs": [
    {
     "data": {
      "text/plain": [
       "(0.9152494654674048, 2.3100385419897196e-11)"
      ]
     },
     "execution_count": 6,
     "metadata": {},
     "output_type": "execute_result"
    }
   ],
   "source": [
    "# 상관계수 : 피어슨 상관계수 (선형성 강약 여부 - 강하다면 변수들의 관계가 직선에 의해 잘 모델링된다)\n",
    "stats.pearsonr(house.tax,house.price)"
   ]
  },
  {
   "cell_type": "code",
   "execution_count": 7,
   "metadata": {
    "execution": {
     "iopub.execute_input": "2020-11-20T07:06:54.535013Z",
     "iopub.status.busy": "2020-11-20T07:06:54.533978Z",
     "iopub.status.idle": "2020-11-20T07:06:54.542556Z",
     "shell.execute_reply": "2020-11-20T07:06:54.541766Z"
    },
    "papermill": {
     "duration": 0.039359,
     "end_time": "2020-11-20T07:06:54.542693",
     "exception": false,
     "start_time": "2020-11-20T07:06:54.503334",
     "status": "completed"
    },
    "tags": []
   },
   "outputs": [
    {
     "data": {
      "text/plain": [
       "SpearmanrResult(correlation=0.9219492531314523, pvalue=8.562708749005674e-12)"
      ]
     },
     "execution_count": 7,
     "metadata": {},
     "output_type": "execute_result"
    }
   ],
   "source": [
    "# 상관계수 : 스피어만 상관계수 \n",
    "# (단조성 여부 - 좋다면 한 변수의 값의 크기가 커지면(또는 작아지면) 다른 변수의 크기도 커진다(또는 작아진다))\n",
    "stats.spearmanr(house.tax,house.price)"
   ]
  },
  {
   "cell_type": "markdown",
   "metadata": {
    "papermill": {
     "duration": 0.023749,
     "end_time": "2020-11-20T07:06:54.590334",
     "exception": false,
     "start_time": "2020-11-20T07:06:54.566585",
     "status": "completed"
    },
    "tags": []
   },
   "source": [
    "- 피어슨 상관계수에 의하여 선형관계 존재하는 것으로 판단됨.\n",
    "- 250근처와 300 근처의 3개의 특이한 관측치는 price, tax의 선형회귀모형을 결정하는데 큰 역할을 한다.\n",
    "- 250근처와 300 근처의 값이 있을 때와 없을 때에 따라 선형회귀모형의 기울기(회귀식)가 매우 많이 달라질 수 있다. 즉, 양의 상관관계 정도가 달라진다."
   ]
  },
  {
   "cell_type": "markdown",
   "metadata": {
    "papermill": {
     "duration": 0.023578,
     "end_time": "2020-11-20T07:06:54.637915",
     "exception": false,
     "start_time": "2020-11-20T07:06:54.614337",
     "status": "completed"
    },
    "tags": []
   },
   "source": [
    "#### 2. 주택 가격을 종속변수로 하고 세금을 설명변수로 하는 단순선형회귀모형을 적합하여 적합된 회귀식을 쓰시오. "
   ]
  },
  {
   "cell_type": "code",
   "execution_count": 9,
   "metadata": {
    "execution": {
     "iopub.execute_input": "2020-11-20T07:06:54.724124Z",
     "iopub.status.busy": "2020-11-20T07:06:54.723022Z",
     "iopub.status.idle": "2020-11-20T07:06:54.743772Z",
     "shell.execute_reply": "2020-11-20T07:06:54.743022Z"
    },
    "papermill": {
     "duration": 0.082304,
     "end_time": "2020-11-20T07:06:54.743896",
     "exception": false,
     "start_time": "2020-11-20T07:06:54.661592",
     "status": "completed"
    },
    "tags": []
   },
   "outputs": [
    {
     "data": {
      "text/html": [
       "<table class=\"simpletable\">\n",
       "<caption>OLS Regression Results</caption>\n",
       "<tr>\n",
       "  <th>Dep. Variable:</th>          <td>price</td>      <th>  R-squared:         </th> <td>   0.838</td>\n",
       "</tr>\n",
       "<tr>\n",
       "  <th>Model:</th>                   <td>OLS</td>       <th>  Adj. R-squared:    </th> <td>   0.831</td>\n",
       "</tr>\n",
       "<tr>\n",
       "  <th>Method:</th>             <td>Least Squares</td>  <th>  F-statistic:       </th> <td>   129.0</td>\n",
       "</tr>\n",
       "<tr>\n",
       "  <th>Date:</th>             <td>Fri, 20 Nov 2020</td> <th>  Prob (F-statistic):</th> <td>2.31e-11</td>\n",
       "</tr>\n",
       "<tr>\n",
       "  <th>Time:</th>                 <td>21:50:42</td>     <th>  Log-Likelihood:    </th> <td> -66.382</td>\n",
       "</tr>\n",
       "<tr>\n",
       "  <th>No. Observations:</th>      <td>    27</td>      <th>  AIC:               </th> <td>   136.8</td>\n",
       "</tr>\n",
       "<tr>\n",
       "  <th>Df Residuals:</th>          <td>    25</td>      <th>  BIC:               </th> <td>   139.4</td>\n",
       "</tr>\n",
       "<tr>\n",
       "  <th>Df Model:</th>              <td>     1</td>      <th>                     </th>     <td> </td>   \n",
       "</tr>\n",
       "<tr>\n",
       "  <th>Covariance Type:</th>      <td>nonrobust</td>    <th>                     </th>     <td> </td>   \n",
       "</tr>\n",
       "</table>\n",
       "<table class=\"simpletable\">\n",
       "<tr>\n",
       "      <td></td>         <th>coef</th>     <th>std err</th>      <th>t</th>      <th>P>|t|</th>  <th>[0.025</th>    <th>0.975]</th>  \n",
       "</tr>\n",
       "<tr>\n",
       "  <th>Intercept</th> <td>    2.7907</td> <td>    1.556</td> <td>    1.794</td> <td> 0.085</td> <td>   -0.413</td> <td>    5.994</td>\n",
       "</tr>\n",
       "<tr>\n",
       "  <th>tax</th>       <td>    0.1136</td> <td>    0.010</td> <td>   11.359</td> <td> 0.000</td> <td>    0.093</td> <td>    0.134</td>\n",
       "</tr>\n",
       "</table>\n",
       "<table class=\"simpletable\">\n",
       "<tr>\n",
       "  <th>Omnibus:</th>       <td>11.576</td> <th>  Durbin-Watson:     </th> <td>   1.335</td>\n",
       "</tr>\n",
       "<tr>\n",
       "  <th>Prob(Omnibus):</th> <td> 0.003</td> <th>  Jarque-Bera (JB):  </th> <td>  13.951</td>\n",
       "</tr>\n",
       "<tr>\n",
       "  <th>Skew:</th>          <td>-0.909</td> <th>  Prob(JB):          </th> <td>0.000935</td>\n",
       "</tr>\n",
       "<tr>\n",
       "  <th>Kurtosis:</th>      <td> 6.016</td> <th>  Cond. No.          </th> <td>    428.</td>\n",
       "</tr>\n",
       "</table><br/><br/>Notes:<br/>[1] Standard Errors assume that the covariance matrix of the errors is correctly specified."
      ],
      "text/plain": [
       "<class 'statsmodels.iolib.summary.Summary'>\n",
       "\"\"\"\n",
       "                            OLS Regression Results                            \n",
       "==============================================================================\n",
       "Dep. Variable:                  price   R-squared:                       0.838\n",
       "Model:                            OLS   Adj. R-squared:                  0.831\n",
       "Method:                 Least Squares   F-statistic:                     129.0\n",
       "Date:                Fri, 20 Nov 2020   Prob (F-statistic):           2.31e-11\n",
       "Time:                        21:50:42   Log-Likelihood:                -66.382\n",
       "No. Observations:                  27   AIC:                             136.8\n",
       "Df Residuals:                      25   BIC:                             139.4\n",
       "Df Model:                           1                                         \n",
       "Covariance Type:            nonrobust                                         \n",
       "==============================================================================\n",
       "                 coef    std err          t      P>|t|      [0.025      0.975]\n",
       "------------------------------------------------------------------------------\n",
       "Intercept      2.7907      1.556      1.794      0.085      -0.413       5.994\n",
       "tax            0.1136      0.010     11.359      0.000       0.093       0.134\n",
       "==============================================================================\n",
       "Omnibus:                       11.576   Durbin-Watson:                   1.335\n",
       "Prob(Omnibus):                  0.003   Jarque-Bera (JB):               13.951\n",
       "Skew:                          -0.909   Prob(JB):                     0.000935\n",
       "Kurtosis:                       6.016   Cond. No.                         428.\n",
       "==============================================================================\n",
       "\n",
       "Notes:\n",
       "[1] Standard Errors assume that the covariance matrix of the errors is correctly specified.\n",
       "\"\"\""
      ]
     },
     "execution_count": 9,
     "metadata": {},
     "output_type": "execute_result"
    }
   ],
   "source": [
    "# 선형회귀식을 구하기 위한 \n",
    "model = smf.ols('price ~ tax', data = house).fit()\n",
    "model.summary()"
   ]
  },
  {
   "cell_type": "markdown",
   "metadata": {
    "papermill": {
     "duration": 0.024445,
     "end_time": "2020-11-20T07:06:54.792644",
     "exception": false,
     "start_time": "2020-11-20T07:06:54.768199",
     "status": "completed"
    },
    "tags": []
   },
   "source": [
    "- 회귀식  \n",
    "y_hat = 2.7907 + 0.1136*x"
   ]
  },
  {
   "cell_type": "markdown",
   "metadata": {
    "papermill": {
     "duration": 0.024909,
     "end_time": "2020-11-20T07:06:54.843251",
     "exception": false,
     "start_time": "2020-11-20T07:06:54.818342",
     "status": "completed"
    },
    "tags": []
   },
   "source": [
    "#### 3. tax의 계수에 대한 95% 신뢰구간을 계산하고 해석하시오. "
   ]
  },
  {
   "cell_type": "code",
   "execution_count": 10,
   "metadata": {
    "execution": {
     "iopub.execute_input": "2020-11-20T07:06:54.905324Z",
     "iopub.status.busy": "2020-11-20T07:06:54.904198Z",
     "iopub.status.idle": "2020-11-20T07:06:54.908640Z",
     "shell.execute_reply": "2020-11-20T07:06:54.908000Z"
    },
    "papermill": {
     "duration": 0.039932,
     "end_time": "2020-11-20T07:06:54.908772",
     "exception": false,
     "start_time": "2020-11-20T07:06:54.868840",
     "status": "completed"
    },
    "tags": []
   },
   "outputs": [
    {
     "data": {
      "text/html": [
       "<div>\n",
       "<style scoped>\n",
       "    .dataframe tbody tr th:only-of-type {\n",
       "        vertical-align: middle;\n",
       "    }\n",
       "\n",
       "    .dataframe tbody tr th {\n",
       "        vertical-align: top;\n",
       "    }\n",
       "\n",
       "    .dataframe thead th {\n",
       "        text-align: right;\n",
       "    }\n",
       "</style>\n",
       "<table border=\"1\" class=\"dataframe\">\n",
       "  <thead>\n",
       "    <tr style=\"text-align: right;\">\n",
       "      <th></th>\n",
       "      <th>0</th>\n",
       "      <th>1</th>\n",
       "    </tr>\n",
       "  </thead>\n",
       "  <tbody>\n",
       "    <tr>\n",
       "      <th>Intercept</th>\n",
       "      <td>-0.412993</td>\n",
       "      <td>5.994431</td>\n",
       "    </tr>\n",
       "    <tr>\n",
       "      <th>tax</th>\n",
       "      <td>0.092995</td>\n",
       "      <td>0.134188</td>\n",
       "    </tr>\n",
       "  </tbody>\n",
       "</table>\n",
       "</div>"
      ],
      "text/plain": [
       "                  0         1\n",
       "Intercept -0.412993  5.994431\n",
       "tax        0.092995  0.134188"
      ]
     },
     "execution_count": 10,
     "metadata": {},
     "output_type": "execute_result"
    }
   ],
   "source": [
    "# 95% 신뢰구간\n",
    "model.conf_int(alpha=0.05)"
   ]
  },
  {
   "cell_type": "markdown",
   "metadata": {
    "papermill": {
     "duration": 0.025234,
     "end_time": "2020-11-20T07:06:54.959222",
     "exception": false,
     "start_time": "2020-11-20T07:06:54.933988",
     "status": "completed"
    },
    "tags": []
   },
   "source": [
    "tax값이 0일 경우 price 범위는 -0.412993 ~ 5.994431 (유의미하지 않음)  \n",
    "tax값이 1이 증가할 경우 price 증가범위는 0.092995 ~ 0.134188 이라고 95% 신뢰함"
   ]
  },
  {
   "cell_type": "markdown",
   "metadata": {
    "papermill": {
     "duration": 0.025269,
     "end_time": "2020-11-20T07:06:55.009547",
     "exception": false,
     "start_time": "2020-11-20T07:06:54.984278",
     "status": "completed"
    },
    "tags": []
   },
   "source": [
    "#### 4. tax의 계수에 대한 가설검정을 진행하시오. "
   ]
  },
  {
   "cell_type": "markdown",
   "metadata": {
    "papermill": {
     "duration": 0.025389,
     "end_time": "2020-11-20T07:06:55.060312",
     "exception": false,
     "start_time": "2020-11-20T07:06:55.034923",
     "status": "completed"
    },
    "tags": []
   },
   "source": [
    "#### 가설설정\n",
    "- H0: β1 = 0 (회귀직선은 의미가 없다)  \n",
    "- H1: β1[](http://) != 0 (회귀직선은 의미가 있다)"
   ]
  },
  {
   "cell_type": "markdown",
   "metadata": {
    "papermill": {
     "duration": 0.025477,
     "end_time": "2020-11-20T07:06:55.111386",
     "exception": false,
     "start_time": "2020-11-20T07:06:55.085909",
     "status": "completed"
    },
    "tags": []
   },
   "source": [
    "#### 검정통계량 계산  "
   ]
  },
  {
   "cell_type": "code",
   "execution_count": 11,
   "metadata": {
    "execution": {
     "iopub.execute_input": "2020-11-20T07:06:55.170207Z",
     "iopub.status.busy": "2020-11-20T07:06:55.169219Z",
     "iopub.status.idle": "2020-11-20T07:06:55.173926Z",
     "shell.execute_reply": "2020-11-20T07:06:55.173177Z"
    },
    "papermill": {
     "duration": 0.037096,
     "end_time": "2020-11-20T07:06:55.174053",
     "exception": false,
     "start_time": "2020-11-20T07:06:55.136957",
     "status": "completed"
    },
    "tags": []
   },
   "outputs": [
    {
     "data": {
      "text/plain": [
       "Intercept    8.491101e-02\n",
       "tax          2.310039e-11\n",
       "dtype: float64"
      ]
     },
     "execution_count": 11,
     "metadata": {},
     "output_type": "execute_result"
    }
   ],
   "source": [
    "model.pvalues"
   ]
  },
  {
   "cell_type": "markdown",
   "metadata": {
    "papermill": {
     "duration": 0.025281,
     "end_time": "2020-11-20T07:06:55.225224",
     "exception": false,
     "start_time": "2020-11-20T07:06:55.199943",
     "status": "completed"
    },
    "tags": []
   },
   "source": [
    "- 0.05 유의수준 하에서 귀무가설 기각. 회귀직선은 의미가 있다. (두 변수가 상관있다)"
   ]
  },
  {
   "cell_type": "markdown",
   "metadata": {
    "papermill": {
     "duration": 0.026534,
     "end_time": "2020-11-20T07:06:55.277513",
     "exception": false,
     "start_time": "2020-11-20T07:06:55.250979",
     "status": "completed"
    },
    "tags": []
   },
   "source": [
    "#### 5. 모형의 R-square는 몇 인가? 그것의 의미는 무엇인가?"
   ]
  },
  {
   "cell_type": "code",
   "execution_count": 12,
   "metadata": {
    "execution": {
     "iopub.execute_input": "2020-11-20T07:06:55.335188Z",
     "iopub.status.busy": "2020-11-20T07:06:55.334136Z",
     "iopub.status.idle": "2020-11-20T07:06:55.337594Z",
     "shell.execute_reply": "2020-11-20T07:06:55.338161Z"
    },
    "papermill": {
     "duration": 0.035385,
     "end_time": "2020-11-20T07:06:55.338308",
     "exception": false,
     "start_time": "2020-11-20T07:06:55.302923",
     "status": "completed"
    },
    "tags": []
   },
   "outputs": [
    {
     "data": {
      "text/plain": [
       "0.8376815840383705"
      ]
     },
     "execution_count": 12,
     "metadata": {},
     "output_type": "execute_result"
    }
   ],
   "source": [
    "# 추정한 선형 모형이 주어진 자료에 적합한 정도를 재는 척도\n",
    "model.rsquared"
   ]
  },
  {
   "cell_type": "markdown",
   "metadata": {
    "papermill": {
     "duration": 0.025964,
     "end_time": "2020-11-20T07:06:55.390766",
     "exception": false,
     "start_time": "2020-11-20T07:06:55.364802",
     "status": "completed"
    },
    "tags": []
   },
   "source": [
    "- 1에 가깝기 때문에 추정한 선형모형이 주어진 자료에 잘 적합한다고 할 수 있으며,\n",
    "- tax 변동량 중에서 적용한 모형으로 price를 설명가능한 부분의 비율이 83.7%임을 알 수 있다."
   ]
  },
  {
   "cell_type": "markdown",
   "metadata": {
    "papermill": {
     "duration": 0.026081,
     "end_time": "2020-11-20T07:06:55.443862",
     "exception": false,
     "start_time": "2020-11-20T07:06:55.417781",
     "status": "completed"
    },
    "tags": []
   },
   "source": [
    "#### 6. tax가 중위수인 집의 가격을 예측하려고 한다. 신뢰구간과 예측구간을 구하고 각 구간의 의미를 해석하시오. "
   ]
  },
  {
   "cell_type": "code",
   "execution_count": 13,
   "metadata": {
    "execution": {
     "iopub.execute_input": "2020-11-20T07:06:55.513626Z",
     "iopub.status.busy": "2020-11-20T07:06:55.503745Z",
     "iopub.status.idle": "2020-11-20T07:06:55.517254Z",
     "shell.execute_reply": "2020-11-20T07:06:55.517813Z"
    },
    "papermill": {
     "duration": 0.047899,
     "end_time": "2020-11-20T07:06:55.518096",
     "exception": false,
     "start_time": "2020-11-20T07:06:55.470197",
     "status": "completed"
    },
    "tags": []
   },
   "outputs": [
    {
     "data": {
      "text/html": [
       "<div>\n",
       "<style scoped>\n",
       "    .dataframe tbody tr th:only-of-type {\n",
       "        vertical-align: middle;\n",
       "    }\n",
       "\n",
       "    .dataframe tbody tr th {\n",
       "        vertical-align: top;\n",
       "    }\n",
       "\n",
       "    .dataframe thead th {\n",
       "        text-align: right;\n",
       "    }\n",
       "</style>\n",
       "<table border=\"1\" class=\"dataframe\">\n",
       "  <thead>\n",
       "    <tr style=\"text-align: right;\">\n",
       "      <th></th>\n",
       "      <th>mean</th>\n",
       "      <th>mean_se</th>\n",
       "      <th>mean_ci_lower</th>\n",
       "      <th>mean_ci_upper</th>\n",
       "      <th>obs_ci_lower</th>\n",
       "      <th>obs_ci_upper</th>\n",
       "    </tr>\n",
       "  </thead>\n",
       "  <tbody>\n",
       "    <tr>\n",
       "      <th>0</th>\n",
       "      <td>16.633213</td>\n",
       "      <td>0.610771</td>\n",
       "      <td>15.375306</td>\n",
       "      <td>17.891119</td>\n",
       "      <td>10.450429</td>\n",
       "      <td>22.815996</td>\n",
       "    </tr>\n",
       "  </tbody>\n",
       "</table>\n",
       "</div>"
      ],
      "text/plain": [
       "        mean   mean_se  mean_ci_lower  mean_ci_upper  obs_ci_lower  \\\n",
       "0  16.633213  0.610771      15.375306      17.891119     10.450429   \n",
       "\n",
       "   obs_ci_upper  \n",
       "0     22.815996  "
      ]
     },
     "execution_count": 13,
     "metadata": {},
     "output_type": "execute_result"
    }
   ],
   "source": [
    "# tax가 중위수인 집의 가격 정보\n",
    "pred = model.get_prediction(exog = {'tax': house.tax.median() } )\n",
    "pred.summary_frame(alpha = 0.05)"
   ]
  },
  {
   "cell_type": "markdown",
   "metadata": {
    "papermill": {
     "duration": 0.032073,
     "end_time": "2020-11-20T07:06:55.581031",
     "exception": false,
     "start_time": "2020-11-20T07:06:55.548958",
     "status": "completed"
    },
    "tags": []
   },
   "source": [
    "- 신뢰구간: tax가 중위수값 일 경우  price는 15.375306 ~\t17.891119 사이일 것으로 95% 확신합니다.\n",
    "- 예측구간: tax가 중위수값일 경우 price는 10.450429 ~ 22.815996 사이일 것으로 실제 값 범위외이지만 95% 확신합니다."
   ]
  },
  {
   "cell_type": "code",
   "execution_count": null,
   "metadata": {
    "papermill": {
     "duration": 0.030266,
     "end_time": "2020-11-20T07:06:55.639443",
     "exception": false,
     "start_time": "2020-11-20T07:06:55.609177",
     "status": "completed"
    },
    "tags": []
   },
   "outputs": [],
   "source": []
  }
 ],
 "metadata": {
  "kernelspec": {
   "display_name": "Python 3",
   "language": "python",
   "name": "python3"
  },
  "language_info": {
   "codemirror_mode": {
    "name": "ipython",
    "version": 3
   },
   "file_extension": ".py",
   "mimetype": "text/x-python",
   "name": "python",
   "nbconvert_exporter": "python",
   "pygments_lexer": "ipython3",
   "version": "3.6.10"
  },
  "papermill": {
   "duration": 9.50464,
   "end_time": "2020-11-20T07:06:55.787929",
   "environment_variables": {},
   "exception": null,
   "input_path": "__notebook__.ipynb",
   "output_path": "__notebook__.ipynb",
   "parameters": {},
   "start_time": "2020-11-20T07:06:46.283289",
   "version": "2.1.0"
  }
 },
 "nbformat": 4,
 "nbformat_minor": 4
}
