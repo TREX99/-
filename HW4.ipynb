{
 "cells": [
  {
   "cell_type": "markdown",
   "metadata": {},
   "source": [
    "# Homework 4"
   ]
  },
  {
   "cell_type": "code",
   "execution_count": 2,
   "metadata": {},
   "outputs": [],
   "source": [
    "# import common\n",
    "import pandas as pd\n",
    "import numpy as np\n",
    "from scipy import stats\n",
    "\n",
    "import seaborn as sns\n",
    "import matplotlib.pylab as plt\n",
    "from statsmodels.stats import weightstats\n",
    "from statsmodels.stats import proportion"
   ]
  },
  {
   "cell_type": "markdown",
   "metadata": {},
   "source": [
    "#### 1. 대한민국 성인의 대학교육 이수 비율은 49%이다. 만일 대한민국 성인 중 200명을 무작위 추출한다면 이 표본에서 대졸자의 비율이 45% 미만일 확률은 무엇인가? (표본분포를 이용하여 답을 구하시오.)"
   ]
  },
  {
   "cell_type": "code",
   "execution_count": 3,
   "metadata": {},
   "outputs": [
    {
     "output_type": "execute_result",
     "data": {
      "text/plain": [
       "0.1289019105950467"
      ]
     },
     "metadata": {},
     "execution_count": 3
    }
   ],
   "source": [
    "n = 200 # 무작위 추출\n",
    "p = 0.49 # 이수비율\n",
    "p_se = np.sqrt(p * (1 - p) / n) # 표준편차(표준오차)\n",
    "stats.norm.cdf(0.45, loc = p, scale = p_se)"
   ]
  },
  {
   "cell_type": "markdown",
   "metadata": {},
   "source": [
    "---------------"
   ]
  },
  {
   "cell_type": "markdown",
   "metadata": {},
   "source": [
    "#### 2. `airbnb.csv` 데이터셋을 사용하여 샌프란시스코 전체 리스팅의 `reviews_per_month`의 평균을 아래의 방법으로 추정하시오. \n"
   ]
  },
  {
   "cell_type": "markdown",
   "metadata": {},
   "source": [
    "#### (a) 99% 신뢰구간을 강의노트에 있는 신뢰구간 공식을 사용하여 구하시오. "
   ]
  },
  {
   "cell_type": "code",
   "execution_count": 4,
   "metadata": {},
   "outputs": [
    {
     "output_type": "execute_result",
     "data": {
      "text/plain": [
       "0       1.77\n",
       "1       1.33\n",
       "2       0.87\n",
       "3       0.15\n",
       "4       0.13\n",
       "        ... \n",
       "6100    1.00\n",
       "6101    1.00\n",
       "6102    1.00\n",
       "6103    1.00\n",
       "6104    0.23\n",
       "Name: reviews_per_month, Length: 6105, dtype: float64"
      ]
     },
     "metadata": {},
     "execution_count": 4
    }
   ],
   "source": [
    "df = pd.read_csv(\"./data/airbnb.csv\")\n",
    "df.reviews_per_month # 데이타 살펴보고"
   ]
  },
  {
   "cell_type": "code",
   "execution_count": 7,
   "metadata": {},
   "outputs": [
    {
     "output_type": "execute_result",
     "data": {
      "text/plain": [
       "6105"
      ]
     },
     "metadata": {},
     "execution_count": 7
    }
   ],
   "source": [
    "\n",
    "n = df.reviews_per_month.count()  # 표본갯수\n",
    "n"
   ]
  },
  {
   "cell_type": "code",
   "execution_count": 8,
   "metadata": {},
   "outputs": [
    {
     "output_type": "execute_result",
     "data": {
      "text/plain": [
       "1.8882506142506144"
      ]
     },
     "metadata": {},
     "execution_count": 8
    }
   ],
   "source": [
    "X_bar = df.reviews_per_month.mean()  # 표본평균\n",
    "X_bar"
   ]
  },
  {
   "cell_type": "code",
   "execution_count": 9,
   "metadata": {},
   "outputs": [
    {
     "output_type": "execute_result",
     "data": {
      "text/plain": [
       "2.0899042145301565"
      ]
     },
     "metadata": {},
     "execution_count": 9
    }
   ],
   "source": [
    "S = df.reviews_per_month.std() # 표본표준편차\n",
    "S"
   ]
  },
  {
   "cell_type": "code",
   "execution_count": 10,
   "metadata": {},
   "outputs": [
    {
     "output_type": "execute_result",
     "data": {
      "text/plain": [
       "2.5766350039580046"
      ]
     },
     "metadata": {},
     "execution_count": 10
    }
   ],
   "source": [
    "from scipy.stats import t\n",
    "T = t.ppf(0.995, n - 1)\n",
    "T"
   ]
  },
  {
   "cell_type": "code",
   "execution_count": 11,
   "metadata": {},
   "outputs": [
    {
     "output_type": "execute_result",
     "data": {
      "text/plain": [
       "(1.819332013710772, 1.9571692147904567)"
      ]
     },
     "metadata": {},
     "execution_count": 11
    }
   ],
   "source": [
    "X_bar - T * S / np.sqrt(n), X_bar + T * S / np.sqrt(n)"
   ]
  },
  {
   "cell_type": "markdown",
   "metadata": {},
   "source": [
    "-----------"
   ]
  },
  {
   "cell_type": "markdown",
   "metadata": {},
   "source": [
    "#### (b) 99% 신뢰구간을 `statsmodels.stats.weightstats` 의 `tconfint_mean` 함수를 사용하여 구해서 위에서 직접 계산한 신뢰구간과 일치하는지 확인하시오. "
   ]
  },
  {
   "cell_type": "code",
   "execution_count": 12,
   "metadata": {},
   "outputs": [
    {
     "output_type": "execute_result",
     "data": {
      "text/plain": [
       "(1.819332013710772, 1.9571692147904567)"
      ]
     },
     "metadata": {},
     "execution_count": 12
    }
   ],
   "source": [
    "stats = weightstats.DescrStatsW(df.reviews_per_month)\n",
    "stats.tconfint_mean(alpha=0.01)  # 이것은 99% 신뢰구간"
   ]
  },
  {
   "cell_type": "markdown",
   "metadata": {},
   "source": [
    "- 일치합니다.  \n",
    "\n",
    "--------------------"
   ]
  },
  {
   "cell_type": "markdown",
   "metadata": {},
   "source": [
    "#### (c) 위에서 구한 신뢰구간을 해석하시오. "
   ]
  },
  {
   "cell_type": "markdown",
   "metadata": {},
   "source": [
    "- AirBNB이용자의 월 평균 리뷰 수(reviews_per_month)가 1.819 ~ 1.957 사이일 가능성이 99%이다.  \n",
    "\n",
    "--------------------------"
   ]
  },
  {
   "cell_type": "markdown",
   "metadata": {},
   "source": [
    "#### 3. 췌장암에 대한 진단은 제1종 오류가 약 25%이다. 이 말의 의미를 설명하라.  이 경우 제1종 오류와 제2종 오류 중 어느 것이 더 위험한 결과를 초래하는가?"
   ]
  },
  {
   "cell_type": "markdown",
   "metadata": {},
   "source": [
    "제 1종 오류는 귀무가설이 사실임에도 기각되는 오류로  \n",
    "문제에서 제시된 경우의 귀무가설은 \"췌장암에 걸리지 않았다.\"로 할 수 있으며,  \n",
    "이와 관련하여 제 1종 오류가 약 25%는 \"췌장암에 걸리지 않았는데, 걸렸다고 판단하는 오류가 약 25%\"라는 의미로 해석할 수 있습니다.  \n",
    "  \n",
    "제 2종 오류는 귀무가설이 거짓임에도 채택되는 오류로  \n",
    "\"췌장암에 걸렸는데 췌장암으로 판단하지 않는 경우\"이기 때문에 생명과 관련한 본 문제에서는 제 2종 오류가 더 위험한 결과를 초래한다고 볼 수 있습니다.  \n",
    "\n",
    "----------------------"
   ]
  },
  {
   "cell_type": "code",
   "execution_count": null,
   "metadata": {},
   "outputs": [],
   "source": []
  }
 ],
 "metadata": {
  "kernelspec": {
   "display_name": "Python 3",
   "language": "python",
   "name": "python3"
  },
  "language_info": {
   "codemirror_mode": {
    "name": "ipython",
    "version": 3
   },
   "file_extension": ".py",
   "mimetype": "text/x-python",
   "name": "python",
   "nbconvert_exporter": "python",
   "pygments_lexer": "ipython3",
   "version": "3.6.10-final"
  }
 },
 "nbformat": 4,
 "nbformat_minor": 4
}