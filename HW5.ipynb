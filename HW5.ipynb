{
 "cells": [
  {
   "cell_type": "markdown",
   "metadata": {},
   "source": [
    "# Homework 5\n"
   ]
  },
  {
   "cell_type": "code",
   "execution_count": 2,
   "metadata": {},
   "outputs": [],
   "source": [
    "# import common\n",
    "import pandas as pd\n",
    "import numpy as np\n",
    "from scipy import stats\n",
    "\n",
    "import seaborn as sns\n",
    "import matplotlib.pylab as plt\n",
    "from statsmodels.stats import weightstats\n",
    "from statsmodels.stats import proportion"
   ]
  },
  {
   "cell_type": "markdown",
   "metadata": {},
   "source": [
    "#### 1. 비행기에서 제공하는 생수가 안전한지 확인하기 위해 환경보호국에서 8월에 조사한 결과 158개의 무작위 비행기 중에서 20개 비행기(12.7%)에서 생수오염원이 발견되었다. 환경보호국은 위생개선을 명령하였고 11월에 다시 조사를 실시하였다.\n",
    "\n",
    "#### (a) 유의수준 0.05하에서 판단하였을 때 전체 비행기의 10% 이상에서 문제가 있는 생수를 제공하고 있다는 증거가 될 수 있는가? 가설검정 절차를 통해 답하시오."
   ]
  },
  {
   "source": [
    "H0 : p = 0.1   \n",
    "H1 : p > 0.1  \n",
    "  \n",
    "n = 158 # 표본수  \n",
    "p = 0.1 # 비율  \n",
    "  \n",
    "np > 5, n(1 - p) 만족함   "
   ],
   "cell_type": "markdown",
   "metadata": {}
  },
  {
   "cell_type": "code",
   "execution_count": 6,
   "metadata": {},
   "outputs": [
    {
     "output_type": "execute_result",
     "data": {
      "text/plain": [
       "(1.0049010334139983, 0.15747225339770782)"
      ]
     },
     "metadata": {},
     "execution_count": 6
    }
   ],
   "source": [
    "n = 158 # 표본수\n",
    "a = 0.05 # 유의수준\n",
    "c = 20\n",
    "p = 0.1 #  비율\n",
    "\n",
    "z = proportion.proportions_ztest(count = c, nobs = n, value = p, alternative = 'larger')\n",
    "z"
   ]
  },
  {
   "source": [
    "p-value (0.1574722533977078) 가 0.05 보다 크기 때문에 기각할 수 없다."
   ],
   "cell_type": "markdown",
   "metadata": {}
  },
  {
   "cell_type": "markdown",
   "metadata": {},
   "source": [
    "#### (b) 두번째 조사에서는 169개 비행기 중에서 29개(17.2%)에서 오염된 생수를 발견하였다. 개선이 이루어지지 않고 오히려 악화되었는가? 두 표본에서의 95% 신뢰구간을 사용하여 질문에 답하시오. "
   ]
  },
  {
   "cell_type": "code",
   "execution_count": 10,
   "metadata": {},
   "outputs": [
    {
     "output_type": "execute_result",
     "data": {
      "text/plain": [
       "((0.07473607003121532, 0.17842848693081),\n",
       " (0.11475410169898637, 0.22844116457320296))"
      ]
     },
     "metadata": {},
     "execution_count": 10
    }
   ],
   "source": [
    "z1 = proportion.proportion_confint(count = 20, nobs = 158, alpha=0.05)\n",
    "z2 = proportion.proportion_confint(count = 29, nobs = 169, alpha=0.05)\n",
    "z1, z2"
   ]
  },
  {
   "source": [
    "신뢰구간이 겹치기 때문에 차이가 없음 알 수 있다."
   ],
   "cell_type": "markdown",
   "metadata": {}
  },
  {
   "cell_type": "markdown",
   "metadata": {},
   "source": [
    "#### 3. 대한민국의 50원 짜리 동전의 무게는 4.16 그램으로 정해져 있다. 15개의 표본 동전을 선택하여 측정한 결과 평균 무게는 4.02 그램이고 표준편차는 0.040그램이다. (표본 무게의 분포가 대칭의 형태라고 가정하자.) 평균무게가 정해진 기준보다 작다고 5% 유의수준에서 말할 수 있는가? 가설검정 과정을 통해 답하시오."
   ]
  },
  {
   "source": [
    "H0 : mu = 4.16  \n",
    "H1 : mu < 4.16  "
   ],
   "cell_type": "markdown",
   "metadata": {}
  },
  {
   "cell_type": "code",
   "execution_count": 12,
   "metadata": {},
   "outputs": [
    {
     "output_type": "execute_result",
     "data": {
      "text/plain": [
       "-13.555441711726015"
      ]
     },
     "metadata": {},
     "execution_count": 12
    }
   ],
   "source": [
    "T = (4.02 - 4.16) / 0.04 * np.sqrt(15)\n",
    "T"
   ]
  },
  {
   "cell_type": "code",
   "execution_count": 16,
   "metadata": {},
   "outputs": [
    {
     "output_type": "execute_result",
     "data": {
      "text/plain": [
       "9.639968342159571e-10"
      ]
     },
     "metadata": {},
     "execution_count": 16
    }
   ],
   "source": [
    "pv = stats.t.cdf(T, 14)\n",
    "pv"
   ]
  },
  {
   "cell_type": "code",
   "execution_count": 17,
   "metadata": {},
   "outputs": [
    {
     "output_type": "execute_result",
     "data": {
      "text/plain": [
       "True"
      ]
     },
     "metadata": {},
     "execution_count": 17
    }
   ],
   "source": [
    "pv < 0.05"
   ]
  },
  {
   "source": [
    "p-value가 유의수준보다 작아 귀무가설(H0)를 기각합니다.  \n",
    "유의수준(a) 이 0.05일때 평균 무게가 정해진 기준보다 작다고 할 수 있습니다."
   ],
   "cell_type": "markdown",
   "metadata": {}
  }
 ],
 "metadata": {
  "kernelspec": {
   "display_name": "Python 3",
   "language": "python",
   "name": "python3"
  },
  "language_info": {
   "codemirror_mode": {
    "name": "ipython",
    "version": 3
   },
   "file_extension": ".py",
   "mimetype": "text/x-python",
   "name": "python",
   "nbconvert_exporter": "python",
   "pygments_lexer": "ipython3",
   "version": "3.6.10-final"
  }
 },
 "nbformat": 4,
 "nbformat_minor": 4
}