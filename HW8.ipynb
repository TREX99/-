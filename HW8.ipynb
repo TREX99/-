{
 "cells": [
  {
   "cell_type": "markdown",
   "metadata": {},
   "source": [
    "\n",
    "houseprice.csv는 주택판매가격(price)과 이에 영향을 줄 것으로 판단되는 4가지 설명변수인 세금(tax; 만원), 대지평수(ground; 평), 건물평수(floor; 평), 주택연령(year; 년)을 27개 주택에 대해 조사한 것이다. \n"
   ]
  },
  {
   "cell_type": "code",
   "execution_count": 3,
   "metadata": {},
   "outputs": [],
   "source": [
    "import pandas as pd\n",
    "import numpy as np\n",
    "import matplotlib.pylab as plt\n",
    "import scipy.stats as stats\n",
    "import statsmodels.api as sm\n",
    "import statsmodels.formula.api as smf\n",
    "import seaborn as sns\n",
    "from statsmodels.stats.outliers_influence import OLSInfluence\n",
    "\n",
    "data_path = \"./data/\"\n",
    "house = pd.read_csv(data_path + \"houseprice.csv\")"
   ]
  },
  {
   "cell_type": "code",
   "execution_count": 4,
   "metadata": {},
   "outputs": [
    {
     "data": {
      "text/html": [
       "<div>\n",
       "<style scoped>\n",
       "    .dataframe tbody tr th:only-of-type {\n",
       "        vertical-align: middle;\n",
       "    }\n",
       "\n",
       "    .dataframe tbody tr th {\n",
       "        vertical-align: top;\n",
       "    }\n",
       "\n",
       "    .dataframe thead th {\n",
       "        text-align: right;\n",
       "    }\n",
       "</style>\n",
       "<table border=\"1\" class=\"dataframe\">\n",
       "  <thead>\n",
       "    <tr style=\"text-align: right;\">\n",
       "      <th></th>\n",
       "      <th>count</th>\n",
       "      <th>mean</th>\n",
       "      <th>std</th>\n",
       "      <th>min</th>\n",
       "      <th>25%</th>\n",
       "      <th>50%</th>\n",
       "      <th>75%</th>\n",
       "      <th>max</th>\n",
       "    </tr>\n",
       "  </thead>\n",
       "  <tbody>\n",
       "    <tr>\n",
       "      <th>price</th>\n",
       "      <td>27.0</td>\n",
       "      <td>19.250000</td>\n",
       "      <td>7.153751</td>\n",
       "      <td>12.95</td>\n",
       "      <td>14.9750</td>\n",
       "      <td>18.450</td>\n",
       "      <td>20.375</td>\n",
       "      <td>42.450</td>\n",
       "    </tr>\n",
       "    <tr>\n",
       "      <th>tax</th>\n",
       "      <td>27.0</td>\n",
       "      <td>144.898815</td>\n",
       "      <td>57.640439</td>\n",
       "      <td>77.82</td>\n",
       "      <td>103.6000</td>\n",
       "      <td>121.862</td>\n",
       "      <td>166.071</td>\n",
       "      <td>308.404</td>\n",
       "    </tr>\n",
       "    <tr>\n",
       "      <th>ground</th>\n",
       "      <td>27.0</td>\n",
       "      <td>63.475556</td>\n",
       "      <td>24.036766</td>\n",
       "      <td>22.75</td>\n",
       "      <td>47.2165</td>\n",
       "      <td>58.500</td>\n",
       "      <td>75.631</td>\n",
       "      <td>128.000</td>\n",
       "    </tr>\n",
       "    <tr>\n",
       "      <th>floor</th>\n",
       "      <td>27.0</td>\n",
       "      <td>30.241481</td>\n",
       "      <td>11.165303</td>\n",
       "      <td>19.50</td>\n",
       "      <td>23.7500</td>\n",
       "      <td>29.760</td>\n",
       "      <td>33.160</td>\n",
       "      <td>68.400</td>\n",
       "    </tr>\n",
       "    <tr>\n",
       "      <th>year</th>\n",
       "      <td>27.0</td>\n",
       "      <td>3.648148</td>\n",
       "      <td>1.405311</td>\n",
       "      <td>0.30</td>\n",
       "      <td>3.0000</td>\n",
       "      <td>4.000</td>\n",
       "      <td>4.700</td>\n",
       "      <td>6.200</td>\n",
       "    </tr>\n",
       "  </tbody>\n",
       "</table>\n",
       "</div>"
      ],
      "text/plain": [
       "        count        mean        std    min       25%      50%      75%  \\\n",
       "price    27.0   19.250000   7.153751  12.95   14.9750   18.450   20.375   \n",
       "tax      27.0  144.898815  57.640439  77.82  103.6000  121.862  166.071   \n",
       "ground   27.0   63.475556  24.036766  22.75   47.2165   58.500   75.631   \n",
       "floor    27.0   30.241481  11.165303  19.50   23.7500   29.760   33.160   \n",
       "year     27.0    3.648148   1.405311   0.30    3.0000    4.000    4.700   \n",
       "\n",
       "            max  \n",
       "price    42.450  \n",
       "tax     308.404  \n",
       "ground  128.000  \n",
       "floor    68.400  \n",
       "year      6.200  "
      ]
     },
     "execution_count": 4,
     "metadata": {},
     "output_type": "execute_result"
    }
   ],
   "source": [
    "# 데이타 확인\n",
    "house.describe().T"
   ]
  },
  {
   "cell_type": "code",
   "execution_count": 5,
   "metadata": {},
   "outputs": [
    {
     "data": {
      "text/html": [
       "<div>\n",
       "<style scoped>\n",
       "    .dataframe tbody tr th:only-of-type {\n",
       "        vertical-align: middle;\n",
       "    }\n",
       "\n",
       "    .dataframe tbody tr th {\n",
       "        vertical-align: top;\n",
       "    }\n",
       "\n",
       "    .dataframe thead th {\n",
       "        text-align: right;\n",
       "    }\n",
       "</style>\n",
       "<table border=\"1\" class=\"dataframe\">\n",
       "  <thead>\n",
       "    <tr style=\"text-align: right;\">\n",
       "      <th></th>\n",
       "      <th>price</th>\n",
       "      <th>tax</th>\n",
       "      <th>ground</th>\n",
       "      <th>floor</th>\n",
       "      <th>year</th>\n",
       "    </tr>\n",
       "  </thead>\n",
       "  <tbody>\n",
       "    <tr>\n",
       "      <th>0</th>\n",
       "      <td>12.95</td>\n",
       "      <td>98.352</td>\n",
       "      <td>34.72</td>\n",
       "      <td>19.96</td>\n",
       "      <td>4.2</td>\n",
       "    </tr>\n",
       "    <tr>\n",
       "      <th>1</th>\n",
       "      <td>14.75</td>\n",
       "      <td>100.416</td>\n",
       "      <td>35.31</td>\n",
       "      <td>30.00</td>\n",
       "      <td>6.2</td>\n",
       "    </tr>\n",
       "    <tr>\n",
       "      <th>2</th>\n",
       "      <td>13.95</td>\n",
       "      <td>90.858</td>\n",
       "      <td>22.75</td>\n",
       "      <td>23.50</td>\n",
       "      <td>4.0</td>\n",
       "    </tr>\n",
       "    <tr>\n",
       "      <th>3</th>\n",
       "      <td>12.95</td>\n",
       "      <td>91.146</td>\n",
       "      <td>40.50</td>\n",
       "      <td>24.64</td>\n",
       "      <td>5.4</td>\n",
       "    </tr>\n",
       "    <tr>\n",
       "      <th>4</th>\n",
       "      <td>14.95</td>\n",
       "      <td>101.194</td>\n",
       "      <td>44.55</td>\n",
       "      <td>22.42</td>\n",
       "      <td>4.2</td>\n",
       "    </tr>\n",
       "  </tbody>\n",
       "</table>\n",
       "</div>"
      ],
      "text/plain": [
       "   price      tax  ground  floor  year\n",
       "0  12.95   98.352   34.72  19.96   4.2\n",
       "1  14.75  100.416   35.31  30.00   6.2\n",
       "2  13.95   90.858   22.75  23.50   4.0\n",
       "3  12.95   91.146   40.50  24.64   5.4\n",
       "4  14.95  101.194   44.55  22.42   4.2"
      ]
     },
     "execution_count": 5,
     "metadata": {},
     "output_type": "execute_result"
    }
   ],
   "source": [
    "house.head()"
   ]
  },
  {
   "cell_type": "code",
   "execution_count": 6,
   "metadata": {},
   "outputs": [
    {
     "data": {
      "text/plain": [
       "(27, 5)"
      ]
     },
     "execution_count": 6,
     "metadata": {},
     "output_type": "execute_result"
    }
   ],
   "source": [
    "house.shape"
   ]
  },
  {
   "cell_type": "markdown",
   "metadata": {},
   "source": [
    "1\\.\t5개 변수들에 대한 산점도 행렬을 작성하고 변수들 간의 관계를 설명하여라. "
   ]
  },
  {
   "cell_type": "code",
   "execution_count": 11,
   "metadata": {},
   "outputs": [
    {
     "data": {
      "image/png": "[encoded data removed]",
      "text/plain": [
       "<Figure size 900x900 with 30 Axes>"
      ]
     },
     "metadata": {
      "needs_background": "light"
     },
     "output_type": "display_data"
    }
   ],
   "source": [
    "sns.pairplot(data=house)\n",
    "plt.show()"
   ]
  },
  {
   "cell_type": "code",
   "execution_count": 12,
   "metadata": {},
   "outputs": [
    {
     "data": {
      "text/html": [
       "<div>\n",
       "<style scoped>\n",
       "    .dataframe tbody tr th:only-of-type {\n",
       "        vertical-align: middle;\n",
       "    }\n",
       "\n",
       "    .dataframe tbody tr th {\n",
       "        vertical-align: top;\n",
       "    }\n",
       "\n",
       "    .dataframe thead th {\n",
       "        text-align: right;\n",
       "    }\n",
       "</style>\n",
       "<table border=\"1\" class=\"dataframe\">\n",
       "  <thead>\n",
       "    <tr style=\"text-align: right;\">\n",
       "      <th></th>\n",
       "      <th>price</th>\n",
       "      <th>tax</th>\n",
       "      <th>ground</th>\n",
       "      <th>floor</th>\n",
       "      <th>year</th>\n",
       "    </tr>\n",
       "  </thead>\n",
       "  <tbody>\n",
       "    <tr>\n",
       "      <th>price</th>\n",
       "      <td>1.000000</td>\n",
       "      <td>0.915249</td>\n",
       "      <td>0.726335</td>\n",
       "      <td>0.928827</td>\n",
       "      <td>-0.310290</td>\n",
       "    </tr>\n",
       "    <tr>\n",
       "      <th>tax</th>\n",
       "      <td>0.915249</td>\n",
       "      <td>1.000000</td>\n",
       "      <td>0.686850</td>\n",
       "      <td>0.832415</td>\n",
       "      <td>-0.371172</td>\n",
       "    </tr>\n",
       "    <tr>\n",
       "      <th>ground</th>\n",
       "      <td>0.726335</td>\n",
       "      <td>0.686850</td>\n",
       "      <td>1.000000</td>\n",
       "      <td>0.703269</td>\n",
       "      <td>-0.380275</td>\n",
       "    </tr>\n",
       "    <tr>\n",
       "      <th>floor</th>\n",
       "      <td>0.928827</td>\n",
       "      <td>0.832415</td>\n",
       "      <td>0.703269</td>\n",
       "      <td>1.000000</td>\n",
       "      <td>-0.178057</td>\n",
       "    </tr>\n",
       "    <tr>\n",
       "      <th>year</th>\n",
       "      <td>-0.310290</td>\n",
       "      <td>-0.371172</td>\n",
       "      <td>-0.380275</td>\n",
       "      <td>-0.178057</td>\n",
       "      <td>1.000000</td>\n",
       "    </tr>\n",
       "  </tbody>\n",
       "</table>\n",
       "</div>"
      ],
      "text/plain": [
       "           price       tax    ground     floor      year\n",
       "price   1.000000  0.915249  0.726335  0.928827 -0.310290\n",
       "tax     0.915249  1.000000  0.686850  0.832415 -0.371172\n",
       "ground  0.726335  0.686850  1.000000  0.703269 -0.380275\n",
       "floor   0.928827  0.832415  0.703269  1.000000 -0.178057\n",
       "year   -0.310290 -0.371172 -0.380275 -0.178057  1.000000"
      ]
     },
     "execution_count": 12,
     "metadata": {},
     "output_type": "execute_result"
    }
   ],
   "source": [
    "house.corr()"
   ]
  },
  {
   "cell_type": "markdown",
   "metadata": {},
   "source": [
    "#### 변수들 간의 관계를 설명\n",
    "  - price와 tax는 0.91로 매우 강한 양의 상관 관계가 있다.\n",
    "  - price와 ground 0.72로 강한 양의 상관 관계가 있다.\n",
    "  - price와 floor는 0.9로 매우 강한 양의 상관 관계가 있다.\n",
    "  - price와 year는 -0.31로 약한 음의 상관 관계가 있다.\n",
    "  - tax와 ground는 0.68로 양의 상관 관계가 있다.\n",
    "  - tax와 floor는 0.83으로 강한 양의 상관 관계가 있다.\n",
    "  - tax와 year는 -0.37로 약한 음의 상관 관계가 있다.\n",
    "  - ground와 floor는 0.70으로 양의 상관 관계가 있다.\n",
    "  - ground와 year는 -0.38로 약한 음의 상관 관계가 있다.\n",
    "  - floor와 year는 -0.17로 매우 약한 음의 상관 관계가 있다."
   ]
  },
  {
   "cell_type": "markdown",
   "metadata": {},
   "source": [
    "2\\. 주택 판매가격을 종속변수로, 나머지 4개 변수를 설명변수로 하는 선형회귀모형을 적합하여라. "
   ]
  },
  {
   "cell_type": "code",
   "execution_count": 35,
   "metadata": {},
   "outputs": [
    {
     "data": {
      "text/html": [
       "<table class=\"simpletable\">\n",
       "<caption>OLS Regression Results</caption>\n",
       "<tr>\n",
       "  <th>Dep. Variable:</th>          <td>price</td>      <th>  R-squared:         </th> <td>   0.931</td>\n",
       "</tr>\n",
       "<tr>\n",
       "  <th>Model:</th>                   <td>OLS</td>       <th>  Adj. R-squared:    </th> <td>   0.919</td>\n",
       "</tr>\n",
       "<tr>\n",
       "  <th>Method:</th>             <td>Least Squares</td>  <th>  F-statistic:       </th> <td>   74.53</td>\n",
       "</tr>\n",
       "<tr>\n",
       "  <th>Date:</th>             <td>Thu, 26 Nov 2020</td> <th>  Prob (F-statistic):</th> <td>1.82e-12</td>\n",
       "</tr>\n",
       "<tr>\n",
       "  <th>Time:</th>                 <td>02:39:38</td>     <th>  Log-Likelihood:    </th> <td> -54.781</td>\n",
       "</tr>\n",
       "<tr>\n",
       "  <th>No. Observations:</th>      <td>    27</td>      <th>  AIC:               </th> <td>   119.6</td>\n",
       "</tr>\n",
       "<tr>\n",
       "  <th>Df Residuals:</th>          <td>    22</td>      <th>  BIC:               </th> <td>   126.0</td>\n",
       "</tr>\n",
       "<tr>\n",
       "  <th>Df Model:</th>              <td>     4</td>      <th>                     </th>     <td> </td>   \n",
       "</tr>\n",
       "<tr>\n",
       "  <th>Covariance Type:</th>      <td>nonrobust</td>    <th>                     </th>     <td> </td>   \n",
       "</tr>\n",
       "</table>\n",
       "<table class=\"simpletable\">\n",
       "<tr>\n",
       "      <td></td>         <th>coef</th>     <th>std err</th>      <th>t</th>      <th>P>|t|</th>  <th>[0.025</th>    <th>0.975]</th>  \n",
       "</tr>\n",
       "<tr>\n",
       "  <th>Intercept</th> <td>    1.2187</td> <td>    2.047</td> <td>    0.595</td> <td> 0.558</td> <td>   -3.026</td> <td>    5.463</td>\n",
       "</tr>\n",
       "<tr>\n",
       "  <th>tax</th>       <td>    0.0519</td> <td>    0.014</td> <td>    3.756</td> <td> 0.001</td> <td>    0.023</td> <td>    0.081</td>\n",
       "</tr>\n",
       "<tr>\n",
       "  <th>ground</th>    <td>    0.0116</td> <td>    0.025</td> <td>    0.458</td> <td> 0.652</td> <td>   -0.041</td> <td>    0.064</td>\n",
       "</tr>\n",
       "<tr>\n",
       "  <th>floor</th>     <td>    0.3494</td> <td>    0.073</td> <td>    4.807</td> <td> 0.000</td> <td>    0.199</td> <td>    0.500</td>\n",
       "</tr>\n",
       "<tr>\n",
       "  <th>year</th>      <td>   -0.2189</td> <td>    0.331</td> <td>   -0.660</td> <td> 0.516</td> <td>   -0.906</td> <td>    0.469</td>\n",
       "</tr>\n",
       "</table>\n",
       "<table class=\"simpletable\">\n",
       "<tr>\n",
       "  <th>Omnibus:</th>       <td> 0.837</td> <th>  Durbin-Watson:     </th> <td>   1.900</td>\n",
       "</tr>\n",
       "<tr>\n",
       "  <th>Prob(Omnibus):</th> <td> 0.658</td> <th>  Jarque-Bera (JB):  </th> <td>   0.737</td>\n",
       "</tr>\n",
       "<tr>\n",
       "  <th>Skew:</th>          <td> 0.014</td> <th>  Prob(JB):          </th> <td>   0.692</td>\n",
       "</tr>\n",
       "<tr>\n",
       "  <th>Kurtosis:</th>      <td> 2.191</td> <th>  Cond. No.          </th> <td>    903.</td>\n",
       "</tr>\n",
       "</table><br/><br/>Notes:<br/>[1] Standard Errors assume that the covariance matrix of the errors is correctly specified."
      ],
      "text/plain": [
       "<class 'statsmodels.iolib.summary.Summary'>\n",
       "\"\"\"\n",
       "                            OLS Regression Results                            \n",
       "==============================================================================\n",
       "Dep. Variable:                  price   R-squared:                       0.931\n",
       "Model:                            OLS   Adj. R-squared:                  0.919\n",
       "Method:                 Least Squares   F-statistic:                     74.53\n",
       "Date:                Thu, 26 Nov 2020   Prob (F-statistic):           1.82e-12\n",
       "Time:                        02:39:38   Log-Likelihood:                -54.781\n",
       "No. Observations:                  27   AIC:                             119.6\n",
       "Df Residuals:                      22   BIC:                             126.0\n",
       "Df Model:                           4                                         \n",
       "Covariance Type:            nonrobust                                         \n",
       "==============================================================================\n",
       "                 coef    std err          t      P>|t|      [0.025      0.975]\n",
       "------------------------------------------------------------------------------\n",
       "Intercept      1.2187      2.047      0.595      0.558      -3.026       5.463\n",
       "tax            0.0519      0.014      3.756      0.001       0.023       0.081\n",
       "ground         0.0116      0.025      0.458      0.652      -0.041       0.064\n",
       "floor          0.3494      0.073      4.807      0.000       0.199       0.500\n",
       "year          -0.2189      0.331     -0.660      0.516      -0.906       0.469\n",
       "==============================================================================\n",
       "Omnibus:                        0.837   Durbin-Watson:                   1.900\n",
       "Prob(Omnibus):                  0.658   Jarque-Bera (JB):                0.737\n",
       "Skew:                           0.014   Prob(JB):                        0.692\n",
       "Kurtosis:                       2.191   Cond. No.                         903.\n",
       "==============================================================================\n",
       "\n",
       "Notes:\n",
       "[1] Standard Errors assume that the covariance matrix of the errors is correctly specified.\n",
       "\"\"\""
      ]
     },
     "execution_count": 35,
     "metadata": {},
     "output_type": "execute_result"
    }
   ],
   "source": [
    "import statsmodels.formula.api as smf\n",
    "\n",
    "model_house = smf.ols(\"price ~ tax + ground + floor + year\", data=house).fit()\n",
    "model_house.summary()"
   ]
  },
  {
   "cell_type": "markdown",
   "metadata": {},
   "source": [
    "#### 선형회귀모형을 적합\n",
    " \n",
    "y_hat = 1.2187 + 0.0519 * x1 + 0.0116 * x2 + 0.3494 * x3 - 0.2189 * x4"
   ]
  },
  {
   "cell_type": "markdown",
   "metadata": {},
   "source": [
    "3\\.\t결정계수는 얼마인가? 주택 판매가격에 유의한 영향을 주는 변수들은 무엇인가?"
   ]
  },
  {
   "cell_type": "code",
   "execution_count": 22,
   "metadata": {},
   "outputs": [
    {
     "name": "stdout",
     "output_type": "stream",
     "text": [
      "결정계수 = 0.9312715052594145\n"
     ]
    }
   ],
   "source": [
    "print(\"결정계수 = {0}\".format(model_house.rsquared))"
   ]
  },
  {
   "cell_type": "markdown",
   "metadata": {},
   "source": [
    "##### 주택 판매가격에 유의한 영향을 주는 변수들은 tax, floor이며 ground, year는 유의한 영향을 주지 않는다."
   ]
  },
  {
   "cell_type": "markdown",
   "metadata": {},
   "source": [
    "4\\. 회귀진단을 위한 그래프들을 그리고 모형이 적절한지 판단하여라. Influential point가 있는가? 이들을 제외하면 회귀분석 결과에 영향을 줄 것으로 예상되는가? "
   ]
  },
  {
   "cell_type": "markdown",
   "metadata": {},
   "source": [
    "#### 선형회귀모형의 가정\n",
    "  - y와 x는 선형관계이다.  \n",
    "  - 오차항은 독립이다.  \n",
    "  - 오차항 분산은 동일하다.  \n",
    "  - 오차항은 정규분포를 따른다.   "
   ]
  },
  {
   "cell_type": "code",
   "execution_count": 55,
   "metadata": {},
   "outputs": [
    {
     "data": {
      "image/png": "[encoded data removed]",
      "text/plain": [
       "<Figure size 432x288 with 1 Axes>"
      ]
     },
     "metadata": {
      "needs_background": "light"
     },
     "output_type": "display_data"
    }
   ],
   "source": [
    "plt.scatter(model_house.fittedvalues, model_house.resid)\n",
    "plt.xlabel('fittedvalues')\n",
    "plt.ylabel('Residuals')\n",
    "plt.show()"
   ]
  },
  {
   "cell_type": "markdown",
   "metadata": {},
   "source": [
    "### 잔차도는 선형을 갖는다. \n",
    "### 또한, Prob (F-statistic)값이 1.82e-12으로 0.05보다 작기 때문에 회귀모형에 대한 (통계적) 유의미성 검증 결과, 유의미하다할 수 있음"
   ]
  },
  {
   "cell_type": "code",
   "execution_count": 57,
   "metadata": {},
   "outputs": [
    {
     "data": {
      "text/plain": [
       "1.9003462982403556"
      ]
     },
     "execution_count": 57,
     "metadata": {},
     "output_type": "execute_result"
    }
   ],
   "source": [
    "from statsmodels.stats.stattools import durbin_watson\n",
    "durbin_watson(model_house.resid)"
   ]
  },
  {
   "cell_type": "markdown",
   "metadata": {},
   "source": [
    "### durbin_watson 통계량 값이 2에 가깝기 때문에 오차들은 독립이라 할 수 있다."
   ]
  },
  {
   "cell_type": "code",
   "execution_count": 62,
   "metadata": {},
   "outputs": [
    {
     "data": {
      "image/png": "[encoded data removed]",
      "text/plain": [
       "<Figure size 720x216 with 2 Axes>"
      ]
     },
     "metadata": {
      "needs_background": "light"
     },
     "output_type": "display_data"
    }
   ],
   "source": [
    "model_house1 = smf.ols('np.log(price)~ tax + ground + floor + year', data = house).fit()\n",
    "\n",
    "plt.figure(figsize=(10, 3))\n",
    "plt.subplot(1,2,1)\n",
    "plt.scatter(model_house.fittedvalues, model_house.resid)\n",
    "plt.xlabel('Fitted values')\n",
    "plt.ylabel('Residuals')\n",
    "plt.title('model_house')\n",
    "plt.subplot(1,2,2)\n",
    "plt.scatter(model_house1.fittedvalues, model_house1.resid)\n",
    "plt.xlabel('Fitted values')\n",
    "plt.ylabel('Residuals')\n",
    "plt.title('np.log : model_house')\n",
    "plt.show()"
   ]
  },
  {
   "cell_type": "code",
   "execution_count": 110,
   "metadata": {},
   "outputs": [
    {
     "data": {
      "image/png": "[encoded data removed]",
      "text/plain": [
       "<Figure size 720x216 with 2 Axes>"
      ]
     },
     "metadata": {
      "needs_background": "light"
     },
     "output_type": "display_data"
    }
   ],
   "source": [
    "mh = OLSInfluence(model_house)\n",
    "fig, ax = plt.subplots(1,2, figsize=(10, 3))\n",
    "ax[0].scatter(house.index, mh.resid)\n",
    "ax[0].set_xlabel('Observation')\n",
    "ax[0].set_ylabel('Residuals')\n",
    "mh.plot_index('resid',threshold=3, ax = ax[1])\n",
    "plt.show()"
   ]
  },
  {
   "cell_type": "markdown",
   "metadata": {},
   "source": [
    "### 잔차그래프에 깔때기 형태가 아니기 때문에 오차항 분산은 동일하다 볼 수 있다."
   ]
  },
  {
   "cell_type": "code",
   "execution_count": 67,
   "metadata": {},
   "outputs": [
    {
     "data": {
      "image/png": "[encoded data removed]",
      "text/plain": [
       "<Figure size 432x288 with 1 Axes>"
      ]
     },
     "metadata": {
      "needs_background": "light"
     },
     "output_type": "display_data"
    }
   ],
   "source": [
    "mh.plot_influence()\n",
    "plt.show()"
   ]
  },
  {
   "cell_type": "markdown",
   "metadata": {},
   "source": [
    "#### 영향점이 3개 존재하는 것으로 확인됨."
   ]
  },
  {
   "cell_type": "code",
   "execution_count": 83,
   "metadata": {},
   "outputs": [
    {
     "data": {
      "text/plain": [
       "price      42.450\n",
       "tax       308.404\n",
       "ground     98.000\n",
       "floor      68.400\n",
       "year        4.200\n",
       "Name: 8, dtype: float64"
      ]
     },
     "execution_count": 83,
     "metadata": {},
     "output_type": "execute_result"
    }
   ],
   "source": [
    "# 영향점 확인\n",
    "house.iloc[8]"
   ]
  },
  {
   "cell_type": "code",
   "execution_count": 84,
   "metadata": {},
   "outputs": [
    {
     "data": {
      "text/plain": [
       "price      41.450\n",
       "tax       289.196\n",
       "ground    128.000\n",
       "floor      60.000\n",
       "year        1.400\n",
       "Name: 9, dtype: float64"
      ]
     },
     "execution_count": 84,
     "metadata": {},
     "output_type": "execute_result"
    }
   ],
   "source": [
    "# 영향점 확인\n",
    "house.iloc[9]"
   ]
  },
  {
   "cell_type": "code",
   "execution_count": 87,
   "metadata": {},
   "outputs": [
    {
     "data": {
      "text/plain": [
       "price      20.5\n",
       "tax       240.0\n",
       "ground     50.0\n",
       "floor      24.0\n",
       "year        3.0\n",
       "Name: 26, dtype: float64"
      ]
     },
     "execution_count": 87,
     "metadata": {},
     "output_type": "execute_result"
    }
   ],
   "source": [
    "# 영향점 확인\n",
    "house.iloc[26]"
   ]
  },
  {
   "cell_type": "code",
   "execution_count": 101,
   "metadata": {},
   "outputs": [
    {
     "data": {
      "text/html": [
       "<div>\n",
       "<style scoped>\n",
       "    .dataframe tbody tr th:only-of-type {\n",
       "        vertical-align: middle;\n",
       "    }\n",
       "\n",
       "    .dataframe tbody tr th {\n",
       "        vertical-align: top;\n",
       "    }\n",
       "\n",
       "    .dataframe thead th {\n",
       "        text-align: right;\n",
       "    }\n",
       "</style>\n",
       "<table border=\"1\" class=\"dataframe\">\n",
       "  <thead>\n",
       "    <tr style=\"text-align: right;\">\n",
       "      <th></th>\n",
       "      <th>index</th>\n",
       "      <th>price</th>\n",
       "      <th>tax</th>\n",
       "      <th>ground</th>\n",
       "      <th>floor</th>\n",
       "      <th>year</th>\n",
       "    </tr>\n",
       "  </thead>\n",
       "  <tbody>\n",
       "    <tr>\n",
       "      <th>0</th>\n",
       "      <td>0</td>\n",
       "      <td>12.95</td>\n",
       "      <td>98.352</td>\n",
       "      <td>34.720</td>\n",
       "      <td>19.96</td>\n",
       "      <td>4.2</td>\n",
       "    </tr>\n",
       "    <tr>\n",
       "      <th>1</th>\n",
       "      <td>1</td>\n",
       "      <td>14.75</td>\n",
       "      <td>100.416</td>\n",
       "      <td>35.310</td>\n",
       "      <td>30.00</td>\n",
       "      <td>6.2</td>\n",
       "    </tr>\n",
       "    <tr>\n",
       "      <th>2</th>\n",
       "      <td>2</td>\n",
       "      <td>13.95</td>\n",
       "      <td>90.858</td>\n",
       "      <td>22.750</td>\n",
       "      <td>23.50</td>\n",
       "      <td>4.0</td>\n",
       "    </tr>\n",
       "    <tr>\n",
       "      <th>3</th>\n",
       "      <td>3</td>\n",
       "      <td>12.95</td>\n",
       "      <td>91.146</td>\n",
       "      <td>40.500</td>\n",
       "      <td>24.64</td>\n",
       "      <td>5.4</td>\n",
       "    </tr>\n",
       "    <tr>\n",
       "      <th>4</th>\n",
       "      <td>4</td>\n",
       "      <td>14.95</td>\n",
       "      <td>101.194</td>\n",
       "      <td>44.550</td>\n",
       "      <td>22.42</td>\n",
       "      <td>4.2</td>\n",
       "    </tr>\n",
       "    <tr>\n",
       "      <th>5</th>\n",
       "      <td>5</td>\n",
       "      <td>14.95</td>\n",
       "      <td>77.820</td>\n",
       "      <td>44.550</td>\n",
       "      <td>19.76</td>\n",
       "      <td>5.6</td>\n",
       "    </tr>\n",
       "    <tr>\n",
       "      <th>6</th>\n",
       "      <td>6</td>\n",
       "      <td>15.45</td>\n",
       "      <td>117.960</td>\n",
       "      <td>58.500</td>\n",
       "      <td>24.80</td>\n",
       "      <td>5.1</td>\n",
       "    </tr>\n",
       "    <tr>\n",
       "      <th>7</th>\n",
       "      <td>7</td>\n",
       "      <td>14.45</td>\n",
       "      <td>112.186</td>\n",
       "      <td>95.200</td>\n",
       "      <td>30.02</td>\n",
       "      <td>3.2</td>\n",
       "    </tr>\n",
       "    <tr>\n",
       "      <th>8</th>\n",
       "      <td>10</td>\n",
       "      <td>17.95</td>\n",
       "      <td>116.564</td>\n",
       "      <td>64.350</td>\n",
       "      <td>24.50</td>\n",
       "      <td>3.2</td>\n",
       "    </tr>\n",
       "    <tr>\n",
       "      <th>9</th>\n",
       "      <td>11</td>\n",
       "      <td>15.75</td>\n",
       "      <td>106.006</td>\n",
       "      <td>49.883</td>\n",
       "      <td>31.04</td>\n",
       "      <td>3.0</td>\n",
       "    </tr>\n",
       "    <tr>\n",
       "      <th>10</th>\n",
       "      <td>12</td>\n",
       "      <td>15.50</td>\n",
       "      <td>125.424</td>\n",
       "      <td>55.200</td>\n",
       "      <td>19.50</td>\n",
       "      <td>3.0</td>\n",
       "    </tr>\n",
       "    <tr>\n",
       "      <th>11</th>\n",
       "      <td>13</td>\n",
       "      <td>15.45</td>\n",
       "      <td>119.184</td>\n",
       "      <td>66.660</td>\n",
       "      <td>22.42</td>\n",
       "      <td>3.2</td>\n",
       "    </tr>\n",
       "    <tr>\n",
       "      <th>12</th>\n",
       "      <td>14</td>\n",
       "      <td>15.00</td>\n",
       "      <td>101.000</td>\n",
       "      <td>50.000</td>\n",
       "      <td>20.40</td>\n",
       "      <td>4.6</td>\n",
       "    </tr>\n",
       "    <tr>\n",
       "      <th>13</th>\n",
       "      <td>15</td>\n",
       "      <td>18.45</td>\n",
       "      <td>164.928</td>\n",
       "      <td>51.500</td>\n",
       "      <td>33.28</td>\n",
       "      <td>5.0</td>\n",
       "    </tr>\n",
       "    <tr>\n",
       "      <th>14</th>\n",
       "      <td>16</td>\n",
       "      <td>20.95</td>\n",
       "      <td>133.938</td>\n",
       "      <td>69.020</td>\n",
       "      <td>29.76</td>\n",
       "      <td>2.2</td>\n",
       "    </tr>\n",
       "    <tr>\n",
       "      <th>15</th>\n",
       "      <td>17</td>\n",
       "      <td>20.25</td>\n",
       "      <td>155.682</td>\n",
       "      <td>71.020</td>\n",
       "      <td>27.52</td>\n",
       "      <td>1.7</td>\n",
       "    </tr>\n",
       "    <tr>\n",
       "      <th>16</th>\n",
       "      <td>18</td>\n",
       "      <td>21.95</td>\n",
       "      <td>180.768</td>\n",
       "      <td>78.000</td>\n",
       "      <td>30.00</td>\n",
       "      <td>2.3</td>\n",
       "    </tr>\n",
       "    <tr>\n",
       "      <th>17</th>\n",
       "      <td>19</td>\n",
       "      <td>18.75</td>\n",
       "      <td>119.788</td>\n",
       "      <td>55.200</td>\n",
       "      <td>25.12</td>\n",
       "      <td>4.0</td>\n",
       "    </tr>\n",
       "    <tr>\n",
       "      <th>18</th>\n",
       "      <td>20</td>\n",
       "      <td>18.95</td>\n",
       "      <td>150.844</td>\n",
       "      <td>40.000</td>\n",
       "      <td>33.80</td>\n",
       "      <td>2.2</td>\n",
       "    </tr>\n",
       "    <tr>\n",
       "      <th>19</th>\n",
       "      <td>21</td>\n",
       "      <td>22.25</td>\n",
       "      <td>175.902</td>\n",
       "      <td>98.900</td>\n",
       "      <td>36.40</td>\n",
       "      <td>5.0</td>\n",
       "    </tr>\n",
       "    <tr>\n",
       "      <th>20</th>\n",
       "      <td>22</td>\n",
       "      <td>18.95</td>\n",
       "      <td>121.862</td>\n",
       "      <td>67.265</td>\n",
       "      <td>33.04</td>\n",
       "      <td>4.4</td>\n",
       "    </tr>\n",
       "    <tr>\n",
       "      <th>21</th>\n",
       "      <td>23</td>\n",
       "      <td>19.45</td>\n",
       "      <td>167.214</td>\n",
       "      <td>91.500</td>\n",
       "      <td>35.54</td>\n",
       "      <td>4.8</td>\n",
       "    </tr>\n",
       "    <tr>\n",
       "      <th>22</th>\n",
       "      <td>24</td>\n",
       "      <td>18.45</td>\n",
       "      <td>162.800</td>\n",
       "      <td>80.000</td>\n",
       "      <td>30.08</td>\n",
       "      <td>0.3</td>\n",
       "    </tr>\n",
       "    <tr>\n",
       "      <th>23</th>\n",
       "      <td>25</td>\n",
       "      <td>22.90</td>\n",
       "      <td>182.832</td>\n",
       "      <td>73.262</td>\n",
       "      <td>36.62</td>\n",
       "      <td>3.1</td>\n",
       "    </tr>\n",
       "  </tbody>\n",
       "</table>\n",
       "</div>"
      ],
      "text/plain": [
       "    index  price      tax  ground  floor  year\n",
       "0       0  12.95   98.352  34.720  19.96   4.2\n",
       "1       1  14.75  100.416  35.310  30.00   6.2\n",
       "2       2  13.95   90.858  22.750  23.50   4.0\n",
       "3       3  12.95   91.146  40.500  24.64   5.4\n",
       "4       4  14.95  101.194  44.550  22.42   4.2\n",
       "5       5  14.95   77.820  44.550  19.76   5.6\n",
       "6       6  15.45  117.960  58.500  24.80   5.1\n",
       "7       7  14.45  112.186  95.200  30.02   3.2\n",
       "8      10  17.95  116.564  64.350  24.50   3.2\n",
       "9      11  15.75  106.006  49.883  31.04   3.0\n",
       "10     12  15.50  125.424  55.200  19.50   3.0\n",
       "11     13  15.45  119.184  66.660  22.42   3.2\n",
       "12     14  15.00  101.000  50.000  20.40   4.6\n",
       "13     15  18.45  164.928  51.500  33.28   5.0\n",
       "14     16  20.95  133.938  69.020  29.76   2.2\n",
       "15     17  20.25  155.682  71.020  27.52   1.7\n",
       "16     18  21.95  180.768  78.000  30.00   2.3\n",
       "17     19  18.75  119.788  55.200  25.12   4.0\n",
       "18     20  18.95  150.844  40.000  33.80   2.2\n",
       "19     21  22.25  175.902  98.900  36.40   5.0\n",
       "20     22  18.95  121.862  67.265  33.04   4.4\n",
       "21     23  19.45  167.214  91.500  35.54   4.8\n",
       "22     24  18.45  162.800  80.000  30.08   0.3\n",
       "23     25  22.90  182.832  73.262  36.62   3.1"
      ]
     },
     "execution_count": 101,
     "metadata": {},
     "output_type": "execute_result"
    }
   ],
   "source": [
    "# 영향점 삭제\n",
    "house_x = house.copy()\n",
    "house_x = house_x.drop(index=8)\n",
    "house_x = house_x.drop(index=9)\n",
    "house_x = house_x.drop(index=26)\n",
    "house_x.reset_index()"
   ]
  },
  {
   "cell_type": "code",
   "execution_count": 107,
   "metadata": {},
   "outputs": [
    {
     "data": {
      "text/html": [
       "<table class=\"simpletable\">\n",
       "<caption>OLS Regression Results</caption>\n",
       "<tr>\n",
       "  <th>Dep. Variable:</th>          <td>price</td>      <th>  R-squared:         </th> <td>   0.782</td>\n",
       "</tr>\n",
       "<tr>\n",
       "  <th>Model:</th>                   <td>OLS</td>       <th>  Adj. R-squared:    </th> <td>   0.736</td>\n",
       "</tr>\n",
       "<tr>\n",
       "  <th>Method:</th>             <td>Least Squares</td>  <th>  F-statistic:       </th> <td>   17.02</td>\n",
       "</tr>\n",
       "<tr>\n",
       "  <th>Date:</th>             <td>Thu, 26 Nov 2020</td> <th>  Prob (F-statistic):</th> <td>4.40e-06</td>\n",
       "</tr>\n",
       "<tr>\n",
       "  <th>Time:</th>                 <td>03:41:26</td>     <th>  Log-Likelihood:    </th> <td> -41.655</td>\n",
       "</tr>\n",
       "<tr>\n",
       "  <th>No. Observations:</th>      <td>    24</td>      <th>  AIC:               </th> <td>   93.31</td>\n",
       "</tr>\n",
       "<tr>\n",
       "  <th>Df Residuals:</th>          <td>    19</td>      <th>  BIC:               </th> <td>   99.20</td>\n",
       "</tr>\n",
       "<tr>\n",
       "  <th>Df Model:</th>              <td>     4</td>      <th>                     </th>     <td> </td>   \n",
       "</tr>\n",
       "<tr>\n",
       "  <th>Covariance Type:</th>      <td>nonrobust</td>    <th>                     </th>     <td> </td>   \n",
       "</tr>\n",
       "</table>\n",
       "<table class=\"simpletable\">\n",
       "<tr>\n",
       "      <td></td>         <th>coef</th>     <th>std err</th>      <th>t</th>      <th>P>|t|</th>  <th>[0.025</th>    <th>0.975]</th>  \n",
       "</tr>\n",
       "<tr>\n",
       "  <th>Intercept</th> <td>    6.3254</td> <td>    2.145</td> <td>    2.948</td> <td> 0.008</td> <td>    1.835</td> <td>   10.816</td>\n",
       "</tr>\n",
       "<tr>\n",
       "  <th>tax</th>       <td>    0.0659</td> <td>    0.019</td> <td>    3.516</td> <td> 0.002</td> <td>    0.027</td> <td>    0.105</td>\n",
       "</tr>\n",
       "<tr>\n",
       "  <th>ground</th>    <td>    0.0097</td> <td>    0.022</td> <td>    0.449</td> <td> 0.658</td> <td>   -0.036</td> <td>    0.055</td>\n",
       "</tr>\n",
       "<tr>\n",
       "  <th>floor</th>     <td>    0.0858</td> <td>    0.091</td> <td>    0.947</td> <td> 0.355</td> <td>   -0.104</td> <td>    0.275</td>\n",
       "</tr>\n",
       "<tr>\n",
       "  <th>year</th>      <td>   -0.1114</td> <td>    0.268</td> <td>   -0.416</td> <td> 0.682</td> <td>   -0.672</td> <td>    0.449</td>\n",
       "</tr>\n",
       "</table>\n",
       "<table class=\"simpletable\">\n",
       "<tr>\n",
       "  <th>Omnibus:</th>       <td> 1.164</td> <th>  Durbin-Watson:     </th> <td>   2.111</td>\n",
       "</tr>\n",
       "<tr>\n",
       "  <th>Prob(Omnibus):</th> <td> 0.559</td> <th>  Jarque-Bera (JB):  </th> <td>   1.000</td>\n",
       "</tr>\n",
       "<tr>\n",
       "  <th>Skew:</th>          <td> 0.291</td> <th>  Prob(JB):          </th> <td>   0.607</td>\n",
       "</tr>\n",
       "<tr>\n",
       "  <th>Kurtosis:</th>      <td> 2.187</td> <th>  Cond. No.          </th> <td>1.01e+03</td>\n",
       "</tr>\n",
       "</table><br/><br/>Notes:<br/>[1] Standard Errors assume that the covariance matrix of the errors is correctly specified.<br/>[2] The condition number is large, 1.01e+03. This might indicate that there are<br/>strong multicollinearity or other numerical problems."
      ],
      "text/plain": [
       "<class 'statsmodels.iolib.summary.Summary'>\n",
       "\"\"\"\n",
       "                            OLS Regression Results                            \n",
       "==============================================================================\n",
       "Dep. Variable:                  price   R-squared:                       0.782\n",
       "Model:                            OLS   Adj. R-squared:                  0.736\n",
       "Method:                 Least Squares   F-statistic:                     17.02\n",
       "Date:                Thu, 26 Nov 2020   Prob (F-statistic):           4.40e-06\n",
       "Time:                        03:41:26   Log-Likelihood:                -41.655\n",
       "No. Observations:                  24   AIC:                             93.31\n",
       "Df Residuals:                      19   BIC:                             99.20\n",
       "Df Model:                           4                                         \n",
       "Covariance Type:            nonrobust                                         \n",
       "==============================================================================\n",
       "                 coef    std err          t      P>|t|      [0.025      0.975]\n",
       "------------------------------------------------------------------------------\n",
       "Intercept      6.3254      2.145      2.948      0.008       1.835      10.816\n",
       "tax            0.0659      0.019      3.516      0.002       0.027       0.105\n",
       "ground         0.0097      0.022      0.449      0.658      -0.036       0.055\n",
       "floor          0.0858      0.091      0.947      0.355      -0.104       0.275\n",
       "year          -0.1114      0.268     -0.416      0.682      -0.672       0.449\n",
       "==============================================================================\n",
       "Omnibus:                        1.164   Durbin-Watson:                   2.111\n",
       "Prob(Omnibus):                  0.559   Jarque-Bera (JB):                1.000\n",
       "Skew:                           0.291   Prob(JB):                        0.607\n",
       "Kurtosis:                       2.187   Cond. No.                     1.01e+03\n",
       "==============================================================================\n",
       "\n",
       "Notes:\n",
       "[1] Standard Errors assume that the covariance matrix of the errors is correctly specified.\n",
       "[2] The condition number is large, 1.01e+03. This might indicate that there are\n",
       "strong multicollinearity or other numerical problems.\n",
       "\"\"\""
      ]
     },
     "execution_count": 107,
     "metadata": {},
     "output_type": "execute_result"
    }
   ],
   "source": [
    "# 영향점 삭제 후 선형 회귀모형 생성\n",
    "model_house1 = smf.ols(\"price ~ tax + ground + floor + year\", data=house_x).fit()\n",
    "model_house1.summary()"
   ]
  },
  {
   "cell_type": "code",
   "execution_count": 108,
   "metadata": {},
   "outputs": [
    {
     "data": {
      "image/png": "[encoded data removed]",
      "text/plain": [
       "<Figure size 432x288 with 2 Axes>"
      ]
     },
     "metadata": {
      "needs_background": "light"
     },
     "output_type": "display_data"
    }
   ],
   "source": [
    "# 영향점 삭제 전 과 후 비교\n",
    "model_house1 = smf.ols(\"price ~ tax + ground + floor + year\", data=house_x).fit()\n",
    "\n",
    "plt.subplot(1,2,1)\n",
    "plt.scatter(model_house.fittedvalues, model_house.resid)\n",
    "plt.xlabel('Fitted values')\n",
    "plt.ylabel('Residuals')\n",
    "plt.title('model_house')\n",
    "plt.subplot(1,2,2)\n",
    "plt.scatter(model_house1.fittedvalues, model_house1.resid)\n",
    "plt.xlabel('Fitted values')\n",
    "plt.ylabel('Residuals')\n",
    "plt.title('model_house1')\n",
    "plt.show()\n"
   ]
  },
  {
   "cell_type": "markdown",
   "metadata": {},
   "source": [
    "### 영향점(Influential point)을 제거하면  회귀분석 결과에 영향을 주는 것으로 확인된다."
   ]
  },
  {
   "cell_type": "code",
   "execution_count": 44,
   "metadata": {},
   "outputs": [
    {
     "data": {
      "image/png": "[encoded data removed]",
      "text/plain": [
       "<Figure size 432x288 with 1 Axes>"
      ]
     },
     "metadata": {
      "needs_background": "light"
     },
     "output_type": "display_data"
    }
   ],
   "source": [
    "# 잔차의 정규분포\n",
    "import scipy as sp\n",
    "sp.stats.probplot(model_house.resid, plot=plt)\n",
    "plt.show()"
   ]
  },
  {
   "cell_type": "code",
   "execution_count": 109,
   "metadata": {},
   "outputs": [
    {
     "name": "stdout",
     "output_type": "stream",
     "text": [
      "VIF of Intercept : 27.20676043664783\n",
      "VIF of tax : 3.9747896651562895\n",
      "VIF of ground : 2.3196595146387837\n",
      "VIF of floor : 4.119204698063518\n",
      "VIF of year : 1.3574260489432617\n"
     ]
    }
   ],
   "source": [
    "### VIF가 5 또는 10을 초과하면 공선성 존재한다고 경험적으로 판단\n",
    "import patsy\n",
    "from statsmodels.stats.outliers_influence import variance_inflation_factor\n",
    "y, X = patsy.dmatrices('price ~ tax + ground + floor + year', house, return_type='matrix')\n",
    "for i, x in enumerate(X.design_info.column_names):\n",
    "    print( 'VIF of', x, ':', variance_inflation_factor(X, i))"
   ]
  },
  {
   "cell_type": "markdown",
   "metadata": {},
   "source": [
    "### 4개의 변수 모두 다중 공성성을 보이지 않음."
   ]
  },
  {
   "cell_type": "code",
   "execution_count": 111,
   "metadata": {},
   "outputs": [
    {
     "data": {
      "image/png": "[encoded data removed]",
      "text/plain": [
       "<Figure size 432x288 with 1 Axes>"
      ]
     },
     "execution_count": 111,
     "metadata": {},
     "output_type": "execute_result"
    },
    {
     "data": {
      "image/png": "[encoded data removed]",
      "text/plain": [
       "<Figure size 432x288 with 1 Axes>"
      ]
     },
     "metadata": {
      "needs_background": "light"
     },
     "output_type": "display_data"
    }
   ],
   "source": [
    "sm.graphics.tsa.plot_acf(model_house.resid)"
   ]
  },
  {
   "cell_type": "markdown",
   "metadata": {},
   "source": [
    "### 자기상관 확인 : 자기 상관이 없다."
   ]
  },
  {
   "cell_type": "markdown",
   "metadata": {},
   "source": [
    "5\\.\t세금이 150만원, 대지평수가 50평, 건물평수가 30평, 주택연령이 3년인 주택의 평균판매가격에 대한 추정값과 90% 신뢰구간을 구하여라. "
   ]
  },
  {
   "cell_type": "code",
   "execution_count": 113,
   "metadata": {},
   "outputs": [
    {
     "data": {
      "text/html": [
       "<div>\n",
       "<style scoped>\n",
       "    .dataframe tbody tr th:only-of-type {\n",
       "        vertical-align: middle;\n",
       "    }\n",
       "\n",
       "    .dataframe tbody tr th {\n",
       "        vertical-align: top;\n",
       "    }\n",
       "\n",
       "    .dataframe thead th {\n",
       "        text-align: right;\n",
       "    }\n",
       "</style>\n",
       "<table border=\"1\" class=\"dataframe\">\n",
       "  <thead>\n",
       "    <tr style=\"text-align: right;\">\n",
       "      <th></th>\n",
       "      <th>mean</th>\n",
       "      <th>mean_se</th>\n",
       "      <th>mean_ci_lower</th>\n",
       "      <th>mean_ci_upper</th>\n",
       "      <th>obs_ci_lower</th>\n",
       "      <th>obs_ci_upper</th>\n",
       "    </tr>\n",
       "  </thead>\n",
       "  <tbody>\n",
       "    <tr>\n",
       "      <th>0</th>\n",
       "      <td>19.41629</td>\n",
       "      <td>0.595931</td>\n",
       "      <td>18.392991</td>\n",
       "      <td>20.439589</td>\n",
       "      <td>15.768865</td>\n",
       "      <td>23.063714</td>\n",
       "    </tr>\n",
       "  </tbody>\n",
       "</table>\n",
       "</div>"
      ],
      "text/plain": [
       "       mean   mean_se  mean_ci_lower  mean_ci_upper  obs_ci_lower  \\\n",
       "0  19.41629  0.595931      18.392991      20.439589     15.768865   \n",
       "\n",
       "   obs_ci_upper  \n",
       "0     23.063714  "
      ]
     },
     "execution_count": 113,
     "metadata": {},
     "output_type": "execute_result"
    }
   ],
   "source": [
    "pred = model_house.get_prediction(exog = dict(tax=150, ground=50, floor=30, year=3))\n",
    "pred.summary_frame(alpha=0.1)"
   ]
  },
  {
   "cell_type": "markdown",
   "metadata": {},
   "source": [
    "### 세금이 150만원, 대지평수가 50평, 건물평수가 30평, 주택연령이 3년인 주택의 평균판매가격에 대한 추정값은 19.42이며, 90% 신뢰구간은 18.392991\t~ 20.439589이다."
   ]
  }
 ],
 "metadata": {
  "kernelspec": {
   "display_name": "Python 3",
   "language": "python",
   "name": "python3"
  },
  "language_info": {
   "codemirror_mode": {
    "name": "ipython",
    "version": 3
   },
   "file_extension": ".py",
   "mimetype": "text/x-python",
   "name": "python",
   "nbconvert_exporter": "python",
   "pygments_lexer": "ipython3",
   "version": "3.6.10"
  }
 },
 "nbformat": 4,
 "nbformat_minor": 4
}
